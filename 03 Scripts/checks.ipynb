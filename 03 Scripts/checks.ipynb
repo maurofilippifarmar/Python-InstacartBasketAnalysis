{
 "cells": [
  {
   "cell_type": "code",
   "execution_count": 1,
   "metadata": {},
   "outputs": [],
   "source": [
    "# Import libraries\n",
    "import pandas as pd\n",
    "import numpy as np\n",
    "import os\n",
    "import matplotlib.pyplot as plt\n",
    "import seaborn as sns\n",
    "import scipy\n",
    "\n",
    "# Assign path\n",
    "path = r\"D:\\0 - Data Analytics\\4 - Python fundamentals for Data Analysts\\Instacart Basket Analisys\"\n",
    "\n",
    "# Importing dataframes\n",
    "ords_prods_cust = pd.read_pickle(\n",
    "    os.path.join(\n",
    "        path,\n",
    "        \"02 Data\",\n",
    "        \"Prepared Data\",\n",
    "        \"ords_prods_customers_merged_V2.pkl\",\n",
    "    )\n",
    ")\n",
    "\n",
    "ords_prods_cust_exluded = pd.read_pickle(\n",
    "    os.path.join(\n",
    "        path,\n",
    "        \"02 Data\",\n",
    "        \"Prepared Data\",\n",
    "        \"ords_prods_customers_department_merged_excluded_V2.pkl\",\n",
    "    )\n",
    ")"
   ]
  },
  {
   "cell_type": "code",
   "execution_count": 29,
   "metadata": {},
   "outputs": [
    {
     "data": {
      "text/plain": [
       "order_id                    int64\n",
       "user_id                     int64\n",
       "order_number                int64\n",
       "orders_day_of_week          int64\n",
       "order_hour_of_day           int64\n",
       "days_since_last_order     float64\n",
       "first_order                  bool\n",
       "product_id                  int64\n",
       "add_to_cart_order           int64\n",
       "reordered                   int64\n",
       "product_name               object\n",
       "aisle_id                    int64\n",
       "department_id               int64\n",
       "prices                    float64\n",
       "price_label                object\n",
       "busiest_day                object\n",
       "busiest_days               object\n",
       "busiest_period_of_day      object\n",
       "max_order                   int64\n",
       "loyalty_flag               object\n",
       "avg_product_price         float64\n",
       "spending_flag              object\n",
       "median_between_orders     float64\n",
       "order_frequency_flag       object\n",
       "first_name                 object\n",
       "last_name                  object\n",
       "gender                     object\n",
       "state                      object\n",
       "age                         int64\n",
       "date_joined                object\n",
       "number_of_dependants        int64\n",
       "marital_status             object\n",
       "annual_income               int64\n",
       "_merge                   category\n",
       "region                     object\n",
       "dtype: object"
      ]
     },
     "execution_count": 29,
     "metadata": {},
     "output_type": "execute_result"
    }
   ],
   "source": [
    "# i want to see all the result when i check for dtypoes\n",
    "\n",
    "ords_prods_cust.dtypes"
   ]
  },
  {
   "cell_type": "code",
   "execution_count": 21,
   "metadata": {},
   "outputs": [
    {
     "data": {
      "text/plain": [
       "order_id                    int64\n",
       "user_id                     int64\n",
       "order_number                int64\n",
       "orders_day_of_week          int64\n",
       "order_hour_of_day           int64\n",
       "days_since_last_order     float64\n",
       "first_order                  bool\n",
       "product_id                  int64\n",
       "add_to_cart_order           int64\n",
       "reordered                   int64\n",
       "product_name               object\n",
       "aisle_id                    int64\n",
       "department_id               int64\n",
       "prices                    float64\n",
       "price_label                object\n",
       "busiest_day                object\n",
       "busiest_days               object\n",
       "busiest_period_of_day      object\n",
       "max_order                   int64\n",
       "loyalty_flag               object\n",
       "avg_product_price         float64\n",
       "spending_flag              object\n",
       "median_between_orders     float64\n",
       "order_frequency_flag       object\n",
       "first_name                 object\n",
       "last_name                  object\n",
       "gender                     object\n",
       "state                      object\n",
       "age                         int64\n",
       "date_joined                object\n",
       "number_of_dependants        int64\n",
       "marital_status             object\n",
       "annual_income               int64\n",
       "_merge                   category\n",
       "region                     object\n",
       "dtype: object"
      ]
     },
     "execution_count": 21,
     "metadata": {},
     "output_type": "execute_result"
    }
   ],
   "source": [
    "# DTYPES OF THhe DATAFRAME\n",
    "ords_prods_cust.dtypes"
   ]
  },
  {
   "cell_type": "code",
   "execution_count": 49,
   "metadata": {},
   "outputs": [
    {
     "data": {
      "text/plain": [
       "order_id                   int64\n",
       "user_id                    int64\n",
       "order_number               int64\n",
       "orders_day_of_week         int64\n",
       "order_hour_of_day          int64\n",
       "days_since_last_order    float64\n",
       "first_order                 bool\n",
       "product_id                 int64\n",
       "add_to_cart_order          int64\n",
       "reordered                  int64\n",
       "product_name              object\n",
       "aisle_id                   int64\n",
       "department_id              int64\n",
       "prices                   float64\n",
       "price_label               object\n",
       "busiest_day               object\n",
       "busiest_days              object\n",
       "busiest_period_of_day     object\n",
       "max_order                  int64\n",
       "loyalty_flag              object\n",
       "avg_product_price        float64\n",
       "spending_flag             object\n",
       "median_between_orders    float64\n",
       "order_frequency_flag      object\n",
       "first_name                object\n",
       "last_name                 object\n",
       "gender                    object\n",
       "state                     object\n",
       "age                        int64\n",
       "date_joined               object\n",
       "number_of_dependants       int64\n",
       "marital_status            object\n",
       "annual_income              int64\n",
       "region                    object\n",
       "activity_flag             object\n",
       "age_group                 object\n",
       "income_group              object\n",
       "time_of_day_flag          object\n",
       "dependants_group          object\n",
       "dtype: object"
      ]
     },
     "execution_count": 49,
     "metadata": {},
     "output_type": "execute_result"
    }
   ],
   "source": [
    "# check datatypes of second df show all columns\n",
    "ords_prods_cust_exluded.dtypes\n"
   ]
  },
  {
   "cell_type": "code",
   "execution_count": null,
   "metadata": {},
   "outputs": [
    {
     "data": {
      "text/plain": [
       "first_order\n",
       "False    29303281\n",
       "True      1661283\n",
       "Name: count, dtype: int64"
      ]
     },
     "execution_count": 34,
     "metadata": {},
     "output_type": "execute_result"
    }
   ],
   "source": [
    "# frequency checks on columns\n"
   ]
  },
  {
   "cell_type": "code",
   "execution_count": 50,
   "metadata": {},
   "outputs": [
    {
     "data": {
      "text/plain": [
       "age_group\n",
       "middle_aged    9690051\n",
       "adult          9663775\n",
       "senior         8195544\n",
       "young_adult    3415194\n",
       "Name: count, dtype: int64"
      ]
     },
     "execution_count": 50,
     "metadata": {},
     "output_type": "execute_result"
    }
   ],
   "source": [
    "# age_group\n",
    "ords_prods_cust_exluded[\"age_group\"].value_counts(dropna=False)\n"
   ]
  },
  {
   "cell_type": "code",
   "execution_count": 51,
   "metadata": {},
   "outputs": [
    {
     "data": {
      "text/plain": [
       "income_group\n",
       "middle_income    22617642\n",
       "low_income        4452388\n",
       "high_income       3894534\n",
       "Name: count, dtype: int64"
      ]
     },
     "execution_count": 51,
     "metadata": {},
     "output_type": "execute_result"
    }
   ],
   "source": [
    "# income_group\n",
    "ords_prods_cust_exluded[\"income_group\"].value_counts(dropna=False)"
   ]
  },
  {
   "cell_type": "code",
   "execution_count": 52,
   "metadata": {},
   "outputs": [
    {
     "data": {
      "text/plain": [
       "time_of_day_flag\n",
       "afternoon    14534966\n",
       "morning      10431571\n",
       "evening       5430696\n",
       "night          567331\n",
       "Name: count, dtype: int64"
      ]
     },
     "execution_count": 52,
     "metadata": {},
     "output_type": "execute_result"
    }
   ],
   "source": [
    "# time_of_day_flag\n",
    "ords_prods_cust_exluded[\"time_of_day_flag\"].value_counts(dropna=False)"
   ]
  },
  {
   "cell_type": "code",
   "execution_count": 53,
   "metadata": {},
   "outputs": [
    {
     "data": {
      "text/plain": [
       "dependants_group\n",
       "dependants       23224883\n",
       "no_dependants     7739681\n",
       "Name: count, dtype: int64"
      ]
     },
     "execution_count": 53,
     "metadata": {},
     "output_type": "execute_result"
    }
   ],
   "source": [
    "# dependants_group\n",
    "ords_prods_cust_exluded[\"dependants_group\"].value_counts(dropna=False)"
   ]
  },
  {
   "cell_type": "code",
   "execution_count": null,
   "metadata": {},
   "outputs": [],
   "source": []
  }
 ],
 "metadata": {
  "kernelspec": {
   "display_name": "base",
   "language": "python",
   "name": "python3"
  },
  "language_info": {
   "codemirror_mode": {
    "name": "ipython",
    "version": 3
   },
   "file_extension": ".py",
   "mimetype": "text/x-python",
   "name": "python",
   "nbconvert_exporter": "python",
   "pygments_lexer": "ipython3",
   "version": "3.12.7"
  }
 },
 "nbformat": 4,
 "nbformat_minor": 2
}
