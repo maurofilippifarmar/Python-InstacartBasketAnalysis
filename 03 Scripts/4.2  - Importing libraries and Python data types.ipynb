{
 "cells": [
  {
   "cell_type": "markdown",
   "id": "5e43235b-3a67-4690-b41d-ad49814cd543",
   "metadata": {},
   "source": [
    "# 01. Importing libraries"
   ]
  },
  {
   "cell_type": "code",
   "execution_count": 9,
   "id": "564509a2-48d6-4f40-a11a-8c30af70208b",
   "metadata": {},
   "outputs": [],
   "source": [
    "# Import libraries\n",
    "import pandas as pd\n",
    "import numpy as np\n",
    "import os"
   ]
  },
  {
   "cell_type": "markdown",
   "id": "e47416ff-3c8f-4927-b8a5-2c6111ccb95d",
   "metadata": {},
   "source": [
    "# 02. Data types"
   ]
  },
  {
   "cell_type": "markdown",
   "id": "62746c8c-fa7a-4bba-a2ba-d73a6451efcc",
   "metadata": {},
   "source": [
    "# Code 3 different ways of reaching a result of 100 by adding or subtracting numeric variables."
   ]
  },
  {
   "cell_type": "code",
   "execution_count": 71,
   "id": "1a4ade1e-244f-4ceb-9ec2-7757a20225f3",
   "metadata": {},
   "outputs": [
    {
     "data": {
      "text/plain": [
       "100"
      ]
     },
     "execution_count": 71,
     "metadata": {},
     "output_type": "execute_result"
    }
   ],
   "source": [
    "x = 70\n",
    "y = 30\n",
    "x+y"
   ]
  },
  {
   "cell_type": "code",
   "execution_count": 73,
   "id": "f75e2d50-12ad-4f5a-bfcd-899333825cf3",
   "metadata": {},
   "outputs": [
    {
     "data": {
      "text/plain": [
       "100"
      ]
     },
     "execution_count": 73,
     "metadata": {},
     "output_type": "execute_result"
    }
   ],
   "source": [
    "x = 4\n",
    "y = 25\n",
    "x * y"
   ]
  },
  {
   "cell_type": "code",
   "execution_count": 75,
   "id": "a3aedad4-9e27-4900-98cc-b7080b0ea9a1",
   "metadata": {},
   "outputs": [
    {
     "data": {
      "text/plain": [
       "100"
      ]
     },
     "execution_count": 75,
     "metadata": {},
     "output_type": "execute_result"
    }
   ],
   "source": [
    "x = 175\n",
    "y = 75\n",
    "x- y"
   ]
  },
  {
   "cell_type": "markdown",
   "id": "9aeb147d-8988-4d5f-bead-5f4d2e720f62",
   "metadata": {},
   "source": [
    "# Code 2 floating-point variables and divide them by each other"
   ]
  },
  {
   "cell_type": "code",
   "execution_count": 77,
   "id": "f86216b4-fc41-4c4e-b0ce-5b2ee68d420e",
   "metadata": {},
   "outputs": [
    {
     "data": {
      "text/plain": [
       "1.9856521739130437"
      ]
     },
     "execution_count": 77,
     "metadata": {},
     "output_type": "execute_result"
    }
   ],
   "source": [
    "x = 4.567\n",
    "y = 2.3\n",
    "x / y"
   ]
  },
  {
   "cell_type": "markdown",
   "id": "8605a4ef-c211-4c45-919c-2608aba82481",
   "metadata": {},
   "source": [
    "# Construct a short word made of separate strings (you’ll need to concatenate some strings!)."
   ]
  },
  {
   "cell_type": "code",
   "execution_count": 83,
   "id": "5a5d2be5-69c5-42b0-99d3-b95f3f560853",
   "metadata": {},
   "outputs": [
    {
     "data": {
      "text/plain": [
       "'hamburger'"
      ]
     },
     "execution_count": 83,
     "metadata": {},
     "output_type": "execute_result"
    }
   ],
   "source": [
    "x = 'ham'\n",
    "y = 'burger'\n",
    "x + y"
   ]
  },
  {
   "cell_type": "markdown",
   "id": "b7e21707-c6f9-4e5e-adfd-845591da0e50",
   "metadata": {},
   "source": [
    "# Construct 2 short sentences made of separate strings"
   ]
  },
  {
   "cell_type": "code",
   "execution_count": 81,
   "id": "06f4a214-9d34-4496-aee0-18d8bf99a61d",
   "metadata": {},
   "outputs": [
    {
     "data": {
      "text/plain": [
       "'goalkeapers are important'"
      ]
     },
     "execution_count": 81,
     "metadata": {},
     "output_type": "execute_result"
    }
   ],
   "source": [
    "x = 'goal'\n",
    "y = 'keapers'\n",
    "z = ' are'\n",
    "w = ' important'\n",
    "x + y + z + w"
   ]
  },
  {
   "cell_type": "code",
   "execution_count": 85,
   "id": "be563cdb-06b1-41fe-8f8b-b636f4a31374",
   "metadata": {},
   "outputs": [
    {
     "data": {
      "text/plain": [
       "'The cat is on the table'"
      ]
     },
     "execution_count": 85,
     "metadata": {},
     "output_type": "execute_result"
    }
   ],
   "source": [
    "x = 'The cat'\n",
    "y = ' is '\n",
    "z = 'on '\n",
    "w = 'the table'\n",
    "x + y + z + w"
   ]
  },
  {
   "cell_type": "markdown",
   "id": "c817c896-ec0d-43ac-80ea-b3637493f8f9",
   "metadata": {},
   "source": [
    "# At the bottom of your file, include a command that makes a string appear 100 times."
   ]
  },
  {
   "cell_type": "code",
   "execution_count": 89,
   "id": "99146453-7977-4f3d-bd80-6773f8ae8fbc",
   "metadata": {},
   "outputs": [],
   "source": [
    "MyString = x + y + z + w"
   ]
  },
  {
   "cell_type": "code",
   "execution_count": 91,
   "id": "be34eec6-7c24-4b1d-b645-cf08415b1c7c",
   "metadata": {},
   "outputs": [
    {
     "name": "stdout",
     "output_type": "stream",
     "text": [
      "The cat is on the tableThe cat is on the tableThe cat is on the tableThe cat is on the tableThe cat is on the tableThe cat is on the tableThe cat is on the tableThe cat is on the tableThe cat is on the tableThe cat is on the tableThe cat is on the tableThe cat is on the tableThe cat is on the tableThe cat is on the tableThe cat is on the tableThe cat is on the tableThe cat is on the tableThe cat is on the tableThe cat is on the tableThe cat is on the tableThe cat is on the tableThe cat is on the tableThe cat is on the tableThe cat is on the tableThe cat is on the tableThe cat is on the tableThe cat is on the tableThe cat is on the tableThe cat is on the tableThe cat is on the tableThe cat is on the tableThe cat is on the tableThe cat is on the tableThe cat is on the tableThe cat is on the tableThe cat is on the tableThe cat is on the tableThe cat is on the tableThe cat is on the tableThe cat is on the tableThe cat is on the tableThe cat is on the tableThe cat is on the tableThe cat is on the tableThe cat is on the tableThe cat is on the tableThe cat is on the tableThe cat is on the tableThe cat is on the tableThe cat is on the tableThe cat is on the tableThe cat is on the tableThe cat is on the tableThe cat is on the tableThe cat is on the tableThe cat is on the tableThe cat is on the tableThe cat is on the tableThe cat is on the tableThe cat is on the tableThe cat is on the tableThe cat is on the tableThe cat is on the tableThe cat is on the tableThe cat is on the tableThe cat is on the tableThe cat is on the tableThe cat is on the tableThe cat is on the tableThe cat is on the tableThe cat is on the tableThe cat is on the tableThe cat is on the tableThe cat is on the tableThe cat is on the tableThe cat is on the tableThe cat is on the tableThe cat is on the tableThe cat is on the tableThe cat is on the tableThe cat is on the tableThe cat is on the tableThe cat is on the tableThe cat is on the tableThe cat is on the tableThe cat is on the tableThe cat is on the tableThe cat is on the tableThe cat is on the tableThe cat is on the tableThe cat is on the tableThe cat is on the tableThe cat is on the tableThe cat is on the tableThe cat is on the tableThe cat is on the tableThe cat is on the tableThe cat is on the tableThe cat is on the tableThe cat is on the table\n"
     ]
    }
   ],
   "source": [
    "print((MyString * 100).strip())"
   ]
  },
  {
   "cell_type": "code",
   "execution_count": null,
   "id": "e685b00f-7a1d-42e2-ad5e-f9b003e9d19a",
   "metadata": {},
   "outputs": [],
   "source": []
  }
 ],
 "metadata": {
  "kernelspec": {
   "display_name": "base",
   "language": "python",
   "name": "python3"
  },
  "language_info": {
   "codemirror_mode": {
    "name": "ipython",
    "version": 3
   },
   "file_extension": ".py",
   "mimetype": "text/x-python",
   "name": "python",
   "nbconvert_exporter": "python",
   "pygments_lexer": "ipython3",
   "version": "3.12.7"
  }
 },
 "nbformat": 4,
 "nbformat_minor": 5
}
