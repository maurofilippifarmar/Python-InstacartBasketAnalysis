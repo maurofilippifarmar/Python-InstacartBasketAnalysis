{
 "cells": [
  {
   "cell_type": "markdown",
   "metadata": {},
   "source": [
    "# 4.9 - Intro to Data Visualization with Python - Task"
   ]
  },
  {
   "cell_type": "markdown",
   "metadata": {},
   "source": [
    "## Part 2"
   ]
  },
  {
   "cell_type": "markdown",
   "metadata": {},
   "source": [
    "### 1\n",
    "Create a new notebook, import the necessary analysis and visualization libraries, then import your most up-to-date project data.\n"
   ]
  },
  {
   "cell_type": "code",
   "execution_count": 1,
   "metadata": {},
   "outputs": [],
   "source": [
    "# Import libraries\n",
    "# Import libraries\n",
    "import pandas as pd\n",
    "import numpy as np\n",
    "import os\n",
    "\n",
    "# New installed libraries\n",
    "import matplotlib.pyplot as plt\n",
    "import seaborn as sns\n",
    "import scipy\n",
    "\n",
    "# Path of repository\n",
    "path = r\"D:\\0 - Data Analytics\\4 - Python fundamentals for Data Analysts\\Instacart Basket Analisys\"\n",
    "\n",
    "# Import last created dataframe\n",
    "ords_prods_customers = pd.read_pickle(\n",
    "    os.path.join(path, \"02 Data\", \"Prepared Data\", \"ords_prods_customers_merged_V1.pkl\")\n",
    ")"
   ]
  },
  {
   "cell_type": "markdown",
   "metadata": {},
   "source": [
    "### 2\n",
    "If you haven’t done so already, follow the instructions in the Exercise to create a bar chart, a histogram, a scatterplot, and a line chart, using a sample subset for the line chart. <br>\n",
    "\n",
    "Done"
   ]
  },
  {
   "cell_type": "markdown",
   "metadata": {},
   "source": [
    "### 3\n",
    "You need to provide the Instacart senior stakeholders with descriptive findings about sales.<br>\n",
    "Create a histogram of the “order_hour_of_day” column. <br>\n",
    "In a markdown cell beneath your histogram, describe what the histogram demonstrates."
   ]
  },
  {
   "cell_type": "code",
   "execution_count": null,
   "metadata": {},
   "outputs": [],
   "source": [
    "# histogram of the “order_hour_of_day” column.\n",
    "hist_hours_day = ords_prods_customers[\"order_hour_of_day\"].plot.hist(bins=24)\n"
   ]
  },
  {
   "cell_type": "markdown",
   "metadata": {},
   "source": [
    "Since the hours of the day are 24 i setted the bins to 24. <br>\n",
    "This histogram is showing that the majority of the sales is happening in between the 9 and 17 of each day. After 17 the sales start to drop for all the night and they restart to rise around 8 in the morning. <br>\n",
    "This is showing us that monst of the people is using Instacart during the day."
   ]
  },
  {
   "cell_type": "markdown",
   "metadata": {},
   "source": [
    "### 4\n",
    "The marketing team is curious about the distribution of orders among customers in terms of loyalty. Create a bar chart from the “loyalty_flag” column."
   ]
  },
  {
   "cell_type": "code",
   "execution_count": null,
   "metadata": {},
   "outputs": [],
   "source": [
    "# create bar chart from \"loyalty_flag\" column\n",
    "bar_loyalty_flag = ords_prods_customers[\"loyalty_flag\"].value_counts().plot.bar()"
   ]
  },
  {
   "cell_type": "markdown",
   "metadata": {},
   "source": [
    "### 5\n",
    "Check whether there’s a difference in expenditure (the “prices” column) depending on the hour of the day. <br> \n",
    "(Hint: To check this, you need to use an accurate sample for your line chart!)"
   ]
  },
  {
   "cell_type": "code",
   "execution_count": null,
   "metadata": {},
   "outputs": [],
   "source": [
    "# create a 70/30 sample of the data\n",
    "np.random.seed(4)\n",
    "dev = np.random.rand(len(ords_prods_customers)) <= 0.7\n",
    "big = ords_prods_customers[dev]\n",
    "small = ords_prods_customers[~dev]\n"
   ]
  },
  {
   "cell_type": "code",
   "execution_count": null,
   "metadata": {},
   "outputs": [],
   "source": [
    "# check if the sample is correct\n",
    "len(big) + len(small) == len(ords_prods_customers)"
   ]
  },
  {
   "cell_type": "code",
   "execution_count": null,
   "metadata": {},
   "outputs": [],
   "source": [
    "# export the small sample\n",
    "# small.to_pickle(os.path.join(path, \"02 Data\", \"Prepared Data\", \"small_sample.pkl\"))"
   ]
  },
  {
   "cell_type": "code",
   "execution_count": null,
   "metadata": {},
   "outputs": [],
   "source": [
    "ords_prods_customers.dtypes"
   ]
  },
  {
   "cell_type": "code",
   "execution_count": null,
   "metadata": {},
   "outputs": [],
   "source": [
    "# keep only the useful columns on the small sample\n",
    "df_small_sample = small[[\"order_hour_of_day\", \"prices\"]]"
   ]
  },
  {
   "cell_type": "code",
   "execution_count": null,
   "metadata": {},
   "outputs": [],
   "source": [
    "# check it\n",
    "df_small_sample.head()"
   ]
  },
  {
   "cell_type": "code",
   "execution_count": null,
   "metadata": {},
   "outputs": [],
   "source": [
    "# create a line chart from the small sample\n",
    "line_hour_price = sns.lineplot(data=df_small_sample, x=\"order_hour_of_day\", y=\"prices\")"
   ]
  },
  {
   "cell_type": "markdown",
   "metadata": {},
   "source": [
    "### 6\n",
    "Now that you have information about customers, you need to conduct some exploratory analysis of customer demographics to inform the targeted marketing campaigns. <br> \n",
    "First, determine whether there’s a connection between age and family situation by creating a line chart exploring the connections between age and number of dependents:\n",
    "* In a markdown cell beneath your line chart, describe what the line chart shows."
   ]
  },
  {
   "cell_type": "code",
   "execution_count": null,
   "metadata": {},
   "outputs": [],
   "source": [
    "# I already have the small sample, now i create the dataframe using only the columns i need: \"age\" and \"number_of_dependants\"\n",
    "df_small_sample_2 = small[[\"age\", \"number_of_dependants\"]]\n"
   ]
  },
  {
   "cell_type": "code",
   "execution_count": null,
   "metadata": {},
   "outputs": [],
   "source": [
    "# check it\n",
    "df_small_sample_2.head()"
   ]
  },
  {
   "cell_type": "code",
   "execution_count": null,
   "metadata": {},
   "outputs": [],
   "source": [
    "# create line chart from the small sample\n",
    "line_age_dependants = sns.lineplot(\n",
    "    data=df_small_sample_2, x=\"age\", y=\"number_of_dependants\"\n",
    ")"
   ]
  },
  {
   "cell_type": "markdown",
   "metadata": {},
   "source": [
    "I can't recognize any pattern in this line chart."
   ]
  },
  {
   "cell_type": "markdown",
   "metadata": {},
   "source": [
    "### 7\n",
    "You’ll also need to explore whether there’s a connection between age and spending power (income). <br>\n",
    "To visualize this relationship, create a scatterplot using the sns.scatterplot() function.\n",
    "* In a markdown cell beneath your scatterplot, describe what the scatterplot shows."
   ]
  },
  {
   "cell_type": "code",
   "execution_count": null,
   "metadata": {},
   "outputs": [],
   "source": [
    "# i already have the small sample, now i create the dataframe using only the columns i need: \"age\" and \"annual_income\"\n",
    "df_small_sample_3 = small[[\"age\", \"annual_income\"]]"
   ]
  },
  {
   "cell_type": "code",
   "execution_count": null,
   "metadata": {},
   "outputs": [],
   "source": [
    "# check it\n",
    "df_small_sample_3.head()"
   ]
  },
  {
   "cell_type": "code",
   "execution_count": null,
   "metadata": {},
   "outputs": [],
   "source": [
    "# create scatterplot from df_small_sample_3\n",
    "scatter_age_income = sns.scatterplot(data=df_small_sample_3, x=\"age\", y=\"annual_income\")"
   ]
  },
  {
   "cell_type": "markdown",
   "metadata": {},
   "source": [
    "#### Income Distribution by Age Groups\n",
    "\n",
    "- Across all age groups, there is a **high concentration of incomes below 200K**.\n",
    "- For individuals **under 40 years old**:\n",
    "  - Most have incomes below 400K.\n",
    "  - There is a **lower concentration** of incomes between **200K and 400K**.\n",
    "\n",
    "- From **40 years old onwards**, three distinct patterns emerge:\n",
    "  - **High concentration**: Incomes below approximately **200K**.\n",
    "  - **Medium concentration**: Incomes between **200K and 300K**.\n",
    "  - **Lower concentration**: Incomes above **300K**."
   ]
  },
  {
   "cell_type": "markdown",
   "metadata": {},
   "source": [
    "### 8\n",
    "Export your visualizations as “.png” files in your relevant project folder."
   ]
  },
  {
   "cell_type": "code",
   "execution_count": null,
   "metadata": {},
   "outputs": [],
   "source": [
    "# export the charts\n",
    "hist_hours_day.figure.savefig(\n",
    "    os.path.join(path, \"04 Analysis\", \"Visualizations\", \"hist_hours_day.png\")\n",
    ")\n",
    "\n",
    "bar_loyalty_flag.figure.savefig(\n",
    "    os.path.join(path, \"04 Analysis\", \"Visualizations\", \"bar_loyalty_flag.png\")\n",
    ")\n",
    "\n",
    "line_hour_price.figure.savefig(\n",
    "    os.path.join(path, \"04 Analysis\", \"Visualizations\", \"line_hour_price.png\")\n",
    ")\n",
    "\n",
    "line_age_dependants.figure.savefig(\n",
    "    os.path.join(path, \"04 Analysis\", \"Visualizations\", \"line_age_dependants.png\")\n",
    ")\n",
    "\n",
    "scatter_age_income.figure.savefig(\n",
    "    os.path.join(path, \"04 Analysis\", \"Visualizations\", \"scatter_age_income.png\")\n",
    ")\n"
   ]
  },
  {
   "cell_type": "code",
   "execution_count": null,
   "metadata": {},
   "outputs": [],
   "source": []
  }
 ],
 "metadata": {
  "kernelspec": {
   "display_name": "base",
   "language": "python",
   "name": "python3"
  },
  "language_info": {
   "codemirror_mode": {
    "name": "ipython",
    "version": 3
   },
   "file_extension": ".py",
   "mimetype": "text/x-python",
   "name": "python",
   "nbconvert_exporter": "python",
   "pygments_lexer": "ipython3",
   "version": "3.12.7"
  }
 },
 "nbformat": 4,
 "nbformat_minor": 2
}
