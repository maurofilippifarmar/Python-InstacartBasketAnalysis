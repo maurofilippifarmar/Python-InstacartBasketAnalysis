{
 "cells": [
  {
   "cell_type": "markdown",
   "metadata": {},
   "source": [
    "# 4.10 - Coding Etiquette & Excel Reporting"
   ]
  },
  {
   "cell_type": "markdown",
   "metadata": {},
   "source": [
    "## Crosstabs"
   ]
  },
  {
   "cell_type": "code",
   "execution_count": 1,
   "metadata": {},
   "outputs": [],
   "source": [
    "# Import libraries\n",
    "import pandas as pd\n",
    "import numpy as np\n",
    "import os\n",
    "import matplotlib.pyplot as plt\n",
    "import seaborn as sns\n",
    "import scipy\n",
    "\n",
    "# Assign path\n",
    "path = r\"D:\\0 - Data Analytics\\4 - Python fundamentals for Data Analysts\\Instacart Basket Analisys\"\n",
    "\n",
    "# Importing dataframes\n",
    "ords_prods_customer = pd.read_pickle(\n",
    "    os.path.join(path, \"02 Data\", \"Prepared Data\", \"ords_prods_customers_merged_V1.pkl\")\n",
    ")"
   ]
  },
  {
   "cell_type": "markdown",
   "metadata": {},
   "source": [
    "### Create the crosstab"
   ]
  },
  {
   "cell_type": "code",
   "execution_count": 4,
   "metadata": {},
   "outputs": [],
   "source": [
    "# create crosstab with \"days_since_prior_order\" and \"order_number\"\n",
    "crosstab = pd.crosstab(\n",
    "    ords_prods_customer[\"days_since_last_order\"],\n",
    "    ords_prods_customer[\"order_number\"],\n",
    "    dropna=False,\n",
    ")\n"
   ]
  },
  {
   "cell_type": "code",
   "execution_count": 5,
   "metadata": {},
   "outputs": [],
   "source": [
    "# Copy the crosstab to the clipboard\n",
    "crosstab.to_clipboard()"
   ]
  },
  {
   "cell_type": "markdown",
   "metadata": {},
   "source": []
  },
  {
   "cell_type": "markdown",
   "metadata": {},
   "source": [
    "## Python text editor\n"
   ]
  },
  {
   "cell_type": "markdown",
   "metadata": {},
   "source": [
    "* Copy all the columns from Python using the df.columns function.\n",
    "* Paste the columns into Excel in a transposed format.\n",
    "* Filter out all the cells that contain “_mean_” within their names.\n",
    "* Add the quotation marks and commas by using the & operator.\n",
    "* Copy the output into Python and create your subset."
   ]
  },
  {
   "cell_type": "markdown",
   "metadata": {},
   "source": []
  }
 ],
 "metadata": {
  "kernelspec": {
   "display_name": "base",
   "language": "python",
   "name": "python3"
  },
  "language_info": {
   "codemirror_mode": {
    "name": "ipython",
    "version": 3
   },
   "file_extension": ".py",
   "mimetype": "text/x-python",
   "name": "python",
   "nbconvert_exporter": "python",
   "pygments_lexer": "ipython3",
   "version": "3.12.7"
  }
 },
 "nbformat": 4,
 "nbformat_minor": 2
}
