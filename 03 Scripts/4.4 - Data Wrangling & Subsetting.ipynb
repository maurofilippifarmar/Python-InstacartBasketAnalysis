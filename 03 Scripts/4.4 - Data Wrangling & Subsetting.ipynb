{
 "cells": [
  {
   "cell_type": "markdown",
   "id": "56a387b1-e836-4bad-b9cf-04e5970d8631",
   "metadata": {},
   "source": [
    "# Importing Libraries and Dataframes\n"
   ]
  },
  {
   "cell_type": "code",
   "execution_count": 1,
   "id": "b615e32c-141e-43a9-8abf-5924f5917907",
   "metadata": {},
   "outputs": [],
   "source": [
    "# Import libraries\n",
    "import pandas as pd\n",
    "import numpy as np\n",
    "import os\n",
    "\n",
    "# Import dataframes\n",
    "path = r\"D:\\0 - Data Analytics\\4 - Python fundamentals for Data Analysts\\Instacart Basket Analisys\"\n",
    "# vars_list = ['order_id', 'user_id', 'order_number', 'order_dow', 'order_hour_of_day', 'days_since_prior_order']\n",
    "# df_ords = pd.read_csv(os.path.join(path, '02 - Data', 'Original Data', 'orders.csv'), usecols = vars_list)\n",
    "df_ords = pd.read_csv(os.path.join(path, \"02 Data\", \"Original Data\", \"orders.csv\"))\n",
    "df_prods = pd.read_csv(os.path.join(path, \"02 Data\", \"Original Data\", \"products.csv\"))\n",
    "df_dep = pd.read_csv(os.path.join(path, \"02 Data\", \"Original Data\", \"departments.csv\"))"
   ]
  },
  {
   "cell_type": "code",
   "execution_count": 6,
   "id": "3181de4b-1491-4aff-a3a0-263d78ecb297",
   "metadata": {},
   "outputs": [],
   "source": [
    "# df_ords.info()"
   ]
  },
  {
   "cell_type": "markdown",
   "id": "c5a9a155-1ecf-4ba8-bb41-55cda073886c",
   "metadata": {},
   "source": [
    "# Data Wrangling Procedures\n"
   ]
  },
  {
   "cell_type": "code",
   "execution_count": 8,
   "id": "9129c728-5976-4dc5-9f87-39668c843b01",
   "metadata": {},
   "outputs": [],
   "source": [
    "# Data wrangling =  term for conducting manipulations or transformations on data"
   ]
  },
  {
   "cell_type": "markdown",
   "id": "b329d046-ea22-499d-9f7b-930cf7c2c95f",
   "metadata": {},
   "source": [
    "- ## Dropping Columns\n"
   ]
  },
  {
   "cell_type": "code",
   "execution_count": null,
   "id": "a154b9b4-37ca-4578-aee2-134bce472dec",
   "metadata": {},
   "outputs": [],
   "source": [
    "# df.drop() -> then in the parentheses the argument\n",
    "# df.drop(columns = ['variable'])\n",
    "# df_ords.drop(columns = ['eval_set'])\n",
    "# This only remove it visually, actual dataframe hasn't been changed.\n",
    "# To overwrite dataframe and actually change it\n",
    "df_ords = df_ords.drop(columns=[\"eval_set\"])"
   ]
  },
  {
   "cell_type": "markdown",
   "id": "78d75b3c-c9bb-4d75-b9b9-c6ee74365f14",
   "metadata": {},
   "source": [
    "- ### df.value_counts()\n",
    "\n",
    "  df['variable'].value_counts(dropna = False)\n",
    "  df = dataframe -> you perform the operation\n",
    "  ['variable'] -> part of the database you want to perform the operation. This is a List of columns\n",
    "  value_counts() -> the function\n",
    "  dropna = False -> this ensure that the function doesn't drop missing values\n",
    "\n",
    "  If you dont include 'dropna = False' the function will show the column existing values. This is called getting the frequency of a value.\n",
    "\n",
    "  df['variable'] in Pandas is called a series. A series is a list within pandas\n",
    "  This syntax 'df['variable']' is the standard way of accessing a column within a dataframe using pandas\n"
   ]
  },
  {
   "cell_type": "code",
   "execution_count": null,
   "id": "d94e6bd3-0cde-4c26-8a41-ead704e93e99",
   "metadata": {},
   "outputs": [
    {
     "data": {
      "text/plain": [
       "days_since_prior_order\n",
       "30.0    369323\n",
       "7.0     320608\n",
       "6.0     240013\n",
       "4.0     221696\n",
       "3.0     217005\n",
       "5.0     214503\n",
       "NaN     206209\n",
       "2.0     193206\n",
       "8.0     181717\n",
       "1.0     145247\n",
       "9.0     118188\n",
       "14.0    100230\n",
       "10.0     95186\n",
       "13.0     83214\n",
       "11.0     80970\n",
       "12.0     76146\n",
       "0.0      67755\n",
       "15.0     66579\n",
       "16.0     46941\n",
       "21.0     45470\n",
       "17.0     39245\n",
       "20.0     38527\n",
       "18.0     35881\n",
       "19.0     34384\n",
       "22.0     32012\n",
       "28.0     26777\n",
       "23.0     23885\n",
       "27.0     22013\n",
       "24.0     20712\n",
       "25.0     19234\n",
       "29.0     19191\n",
       "26.0     19016\n",
       "Name: count, dtype: int64"
      ]
     },
     "execution_count": 12,
     "metadata": {},
     "output_type": "execute_result"
    }
   ],
   "source": [
    "df_ords[\"days_since_prior_order\"].value_counts(dropna=False)"
   ]
  },
  {
   "cell_type": "markdown",
   "id": "d8637ad1-a926-4389-ae26-4d58934e360d",
   "metadata": {},
   "source": [
    "## Renaming Columns\n"
   ]
  },
  {
   "cell_type": "markdown",
   "id": "8c2aa3e3-628f-444d-884b-2df32701fbdc",
   "metadata": {},
   "source": [
    "- ### df.rename()\n",
    "\n",
    "  df.rename(columns = {'old_name' : 'new_name'}, inplace = True) -> Syntax\n",
    "\n",
    "  inpalce = true -> it overwrite the column, false would create a copy\n"
   ]
  },
  {
   "cell_type": "code",
   "execution_count": null,
   "id": "ce3044e7-77f0-419a-b48b-5166ed396cb2",
   "metadata": {},
   "outputs": [
    {
     "data": {
      "text/html": [
       "<div>\n",
       "<style scoped>\n",
       "    .dataframe tbody tr th:only-of-type {\n",
       "        vertical-align: middle;\n",
       "    }\n",
       "\n",
       "    .dataframe tbody tr th {\n",
       "        vertical-align: top;\n",
       "    }\n",
       "\n",
       "    .dataframe thead th {\n",
       "        text-align: right;\n",
       "    }\n",
       "</style>\n",
       "<table border=\"1\" class=\"dataframe\">\n",
       "  <thead>\n",
       "    <tr style=\"text-align: right;\">\n",
       "      <th></th>\n",
       "      <th>order_id</th>\n",
       "      <th>user_id</th>\n",
       "      <th>order_number</th>\n",
       "      <th>orders_day_of_week</th>\n",
       "      <th>order_hour_of_day</th>\n",
       "      <th>days_since_prior_order</th>\n",
       "    </tr>\n",
       "  </thead>\n",
       "  <tbody>\n",
       "    <tr>\n",
       "      <th>0</th>\n",
       "      <td>2539329</td>\n",
       "      <td>1</td>\n",
       "      <td>1</td>\n",
       "      <td>2</td>\n",
       "      <td>8</td>\n",
       "      <td>NaN</td>\n",
       "    </tr>\n",
       "    <tr>\n",
       "      <th>1</th>\n",
       "      <td>2398795</td>\n",
       "      <td>1</td>\n",
       "      <td>2</td>\n",
       "      <td>3</td>\n",
       "      <td>7</td>\n",
       "      <td>15.0</td>\n",
       "    </tr>\n",
       "    <tr>\n",
       "      <th>2</th>\n",
       "      <td>473747</td>\n",
       "      <td>1</td>\n",
       "      <td>3</td>\n",
       "      <td>3</td>\n",
       "      <td>12</td>\n",
       "      <td>21.0</td>\n",
       "    </tr>\n",
       "    <tr>\n",
       "      <th>3</th>\n",
       "      <td>2254736</td>\n",
       "      <td>1</td>\n",
       "      <td>4</td>\n",
       "      <td>4</td>\n",
       "      <td>7</td>\n",
       "      <td>29.0</td>\n",
       "    </tr>\n",
       "    <tr>\n",
       "      <th>4</th>\n",
       "      <td>431534</td>\n",
       "      <td>1</td>\n",
       "      <td>5</td>\n",
       "      <td>4</td>\n",
       "      <td>15</td>\n",
       "      <td>28.0</td>\n",
       "    </tr>\n",
       "  </tbody>\n",
       "</table>\n",
       "</div>"
      ],
      "text/plain": [
       "   order_id  user_id  order_number  orders_day_of_week  order_hour_of_day  \\\n",
       "0   2539329        1             1                   2                  8   \n",
       "1   2398795        1             2                   3                  7   \n",
       "2    473747        1             3                   3                 12   \n",
       "3   2254736        1             4                   4                  7   \n",
       "4    431534        1             5                   4                 15   \n",
       "\n",
       "   days_since_prior_order  \n",
       "0                     NaN  \n",
       "1                    15.0  \n",
       "2                    21.0  \n",
       "3                    29.0  \n",
       "4                    28.0  "
      ]
     },
     "execution_count": 15,
     "metadata": {},
     "output_type": "execute_result"
    }
   ],
   "source": [
    "df_ords.rename(columns={\"order_dow\": \"orders_day_of_week\"}, inplace=True)\n",
    "df_ords.head()\n"
   ]
  },
  {
   "cell_type": "markdown",
   "id": "bf1dd790-e3ff-424f-b92e-fd2aaaf0ea07",
   "metadata": {},
   "source": [
    "## Changing a Variable’s Data Type\n"
   ]
  },
  {
   "cell_type": "markdown",
   "id": "02e8d70e-8fae-4998-8ea3-df3f2e424114",
   "metadata": {},
   "source": [
    "- ### df.describe()\n",
    "  When executing the describe() function, you can exclude these columns by changing their data type to something describe() will ignore, such as a string.\n",
    "  df_ords['order_id'] = df_ords['order_id'].astype('str') -> This function changes the data type of the \"order_id\" column from a number to a string (which the describe() function will ignore when calculating descriptive statistics.\n",
    "  astype() -> changes the datatype to whatever you give. in this case 'str' is for string.\n"
   ]
  },
  {
   "cell_type": "code",
   "execution_count": null,
   "id": "970138ff-834e-4f18-9057-6939807296b4",
   "metadata": {},
   "outputs": [
    {
     "data": {
      "text/plain": [
       "dtype('O')"
      ]
     },
     "execution_count": 18,
     "metadata": {},
     "output_type": "execute_result"
    }
   ],
   "source": [
    "df_ords[\"order_id\"] = df_ords[\"order_id\"].astype(\"str\")\n",
    "df_ords[\"order_id\"].dtype\n",
    "# dtype() is different from dtypes(). Check the datatypes."
   ]
  },
  {
   "cell_type": "markdown",
   "id": "941cc89d-2cac-44ed-8104-7221610bcc74",
   "metadata": {},
   "source": [
    "## Transposing Data\n",
    "\n",
    "Transposing refers to turning your dataframe’s rows into columns, and vice versa\n"
   ]
  },
  {
   "cell_type": "code",
   "execution_count": 20,
   "id": "00dc92b7-c7bf-4078-ab3a-96a6b4ab2a51",
   "metadata": {},
   "outputs": [],
   "source": [
    "# df_dep lready inported on top of the page\n",
    "# df_dep.head() -> wide format. 1 rows, 22 columns"
   ]
  },
  {
   "cell_type": "markdown",
   "id": "ac365071-9476-4753-82c8-ba5455299a51",
   "metadata": {},
   "source": [
    "- ### df.T\n"
   ]
  },
  {
   "cell_type": "code",
   "execution_count": null,
   "id": "16819863-799a-4c19-b348-70ef8a3db7bf",
   "metadata": {},
   "outputs": [],
   "source": [
    "# Transposing df_dep\n",
    "# df_dep.T\n",
    "# Transpose and overwrite the dataframe into a new one\n",
    "df_dep_t = df_dep.T\n"
   ]
  },
  {
   "cell_type": "code",
   "execution_count": 23,
   "id": "8990cde4-8515-4e94-891f-a34b0390173a",
   "metadata": {},
   "outputs": [
    {
     "data": {
      "text/html": [
       "<div>\n",
       "<style scoped>\n",
       "    .dataframe tbody tr th:only-of-type {\n",
       "        vertical-align: middle;\n",
       "    }\n",
       "\n",
       "    .dataframe tbody tr th {\n",
       "        vertical-align: top;\n",
       "    }\n",
       "\n",
       "    .dataframe thead th {\n",
       "        text-align: right;\n",
       "    }\n",
       "</style>\n",
       "<table border=\"1\" class=\"dataframe\">\n",
       "  <thead>\n",
       "    <tr style=\"text-align: right;\">\n",
       "      <th></th>\n",
       "      <th>0</th>\n",
       "    </tr>\n",
       "  </thead>\n",
       "  <tbody>\n",
       "    <tr>\n",
       "      <th>department_id</th>\n",
       "      <td>department</td>\n",
       "    </tr>\n",
       "    <tr>\n",
       "      <th>1</th>\n",
       "      <td>frozen</td>\n",
       "    </tr>\n",
       "    <tr>\n",
       "      <th>2</th>\n",
       "      <td>other</td>\n",
       "    </tr>\n",
       "    <tr>\n",
       "      <th>3</th>\n",
       "      <td>bakery</td>\n",
       "    </tr>\n",
       "    <tr>\n",
       "      <th>4</th>\n",
       "      <td>produce</td>\n",
       "    </tr>\n",
       "    <tr>\n",
       "      <th>5</th>\n",
       "      <td>alcohol</td>\n",
       "    </tr>\n",
       "    <tr>\n",
       "      <th>6</th>\n",
       "      <td>international</td>\n",
       "    </tr>\n",
       "    <tr>\n",
       "      <th>7</th>\n",
       "      <td>beverages</td>\n",
       "    </tr>\n",
       "    <tr>\n",
       "      <th>8</th>\n",
       "      <td>pets</td>\n",
       "    </tr>\n",
       "    <tr>\n",
       "      <th>9</th>\n",
       "      <td>dry goods pasta</td>\n",
       "    </tr>\n",
       "    <tr>\n",
       "      <th>10</th>\n",
       "      <td>bulk</td>\n",
       "    </tr>\n",
       "    <tr>\n",
       "      <th>11</th>\n",
       "      <td>personal care</td>\n",
       "    </tr>\n",
       "    <tr>\n",
       "      <th>12</th>\n",
       "      <td>meat seafood</td>\n",
       "    </tr>\n",
       "    <tr>\n",
       "      <th>13</th>\n",
       "      <td>pantry</td>\n",
       "    </tr>\n",
       "    <tr>\n",
       "      <th>14</th>\n",
       "      <td>breakfast</td>\n",
       "    </tr>\n",
       "    <tr>\n",
       "      <th>15</th>\n",
       "      <td>canned goods</td>\n",
       "    </tr>\n",
       "    <tr>\n",
       "      <th>16</th>\n",
       "      <td>dairy eggs</td>\n",
       "    </tr>\n",
       "    <tr>\n",
       "      <th>17</th>\n",
       "      <td>household</td>\n",
       "    </tr>\n",
       "    <tr>\n",
       "      <th>18</th>\n",
       "      <td>babies</td>\n",
       "    </tr>\n",
       "    <tr>\n",
       "      <th>19</th>\n",
       "      <td>snacks</td>\n",
       "    </tr>\n",
       "    <tr>\n",
       "      <th>20</th>\n",
       "      <td>deli</td>\n",
       "    </tr>\n",
       "    <tr>\n",
       "      <th>21</th>\n",
       "      <td>missing</td>\n",
       "    </tr>\n",
       "  </tbody>\n",
       "</table>\n",
       "</div>"
      ],
      "text/plain": [
       "                             0\n",
       "department_id       department\n",
       "1                       frozen\n",
       "2                        other\n",
       "3                       bakery\n",
       "4                      produce\n",
       "5                      alcohol\n",
       "6                international\n",
       "7                    beverages\n",
       "8                         pets\n",
       "9              dry goods pasta\n",
       "10                        bulk\n",
       "11               personal care\n",
       "12                meat seafood\n",
       "13                      pantry\n",
       "14                   breakfast\n",
       "15                canned goods\n",
       "16                  dairy eggs\n",
       "17                   household\n",
       "18                      babies\n",
       "19                      snacks\n",
       "20                        deli\n",
       "21                     missing"
      ]
     },
     "execution_count": 23,
     "metadata": {},
     "output_type": "execute_result"
    }
   ],
   "source": [
    "# df_dep\n",
    "df_dep_t"
   ]
  },
  {
   "cell_type": "code",
   "execution_count": 24,
   "id": "83cd7963-c3f7-4e56-b3f4-86f7a8adf649",
   "metadata": {},
   "outputs": [
    {
     "data": {
      "text/html": [
       "<div>\n",
       "<style scoped>\n",
       "    .dataframe tbody tr th:only-of-type {\n",
       "        vertical-align: middle;\n",
       "    }\n",
       "\n",
       "    .dataframe tbody tr th {\n",
       "        vertical-align: top;\n",
       "    }\n",
       "\n",
       "    .dataframe thead th {\n",
       "        text-align: right;\n",
       "    }\n",
       "</style>\n",
       "<table border=\"1\" class=\"dataframe\">\n",
       "  <thead>\n",
       "    <tr style=\"text-align: right;\">\n",
       "      <th></th>\n",
       "      <th>index</th>\n",
       "      <th>0</th>\n",
       "    </tr>\n",
       "  </thead>\n",
       "  <tbody>\n",
       "    <tr>\n",
       "      <th>0</th>\n",
       "      <td>department_id</td>\n",
       "      <td>department</td>\n",
       "    </tr>\n",
       "    <tr>\n",
       "      <th>1</th>\n",
       "      <td>1</td>\n",
       "      <td>frozen</td>\n",
       "    </tr>\n",
       "    <tr>\n",
       "      <th>2</th>\n",
       "      <td>2</td>\n",
       "      <td>other</td>\n",
       "    </tr>\n",
       "    <tr>\n",
       "      <th>3</th>\n",
       "      <td>3</td>\n",
       "      <td>bakery</td>\n",
       "    </tr>\n",
       "    <tr>\n",
       "      <th>4</th>\n",
       "      <td>4</td>\n",
       "      <td>produce</td>\n",
       "    </tr>\n",
       "    <tr>\n",
       "      <th>5</th>\n",
       "      <td>5</td>\n",
       "      <td>alcohol</td>\n",
       "    </tr>\n",
       "    <tr>\n",
       "      <th>6</th>\n",
       "      <td>6</td>\n",
       "      <td>international</td>\n",
       "    </tr>\n",
       "    <tr>\n",
       "      <th>7</th>\n",
       "      <td>7</td>\n",
       "      <td>beverages</td>\n",
       "    </tr>\n",
       "    <tr>\n",
       "      <th>8</th>\n",
       "      <td>8</td>\n",
       "      <td>pets</td>\n",
       "    </tr>\n",
       "    <tr>\n",
       "      <th>9</th>\n",
       "      <td>9</td>\n",
       "      <td>dry goods pasta</td>\n",
       "    </tr>\n",
       "    <tr>\n",
       "      <th>10</th>\n",
       "      <td>10</td>\n",
       "      <td>bulk</td>\n",
       "    </tr>\n",
       "    <tr>\n",
       "      <th>11</th>\n",
       "      <td>11</td>\n",
       "      <td>personal care</td>\n",
       "    </tr>\n",
       "    <tr>\n",
       "      <th>12</th>\n",
       "      <td>12</td>\n",
       "      <td>meat seafood</td>\n",
       "    </tr>\n",
       "    <tr>\n",
       "      <th>13</th>\n",
       "      <td>13</td>\n",
       "      <td>pantry</td>\n",
       "    </tr>\n",
       "    <tr>\n",
       "      <th>14</th>\n",
       "      <td>14</td>\n",
       "      <td>breakfast</td>\n",
       "    </tr>\n",
       "    <tr>\n",
       "      <th>15</th>\n",
       "      <td>15</td>\n",
       "      <td>canned goods</td>\n",
       "    </tr>\n",
       "    <tr>\n",
       "      <th>16</th>\n",
       "      <td>16</td>\n",
       "      <td>dairy eggs</td>\n",
       "    </tr>\n",
       "    <tr>\n",
       "      <th>17</th>\n",
       "      <td>17</td>\n",
       "      <td>household</td>\n",
       "    </tr>\n",
       "    <tr>\n",
       "      <th>18</th>\n",
       "      <td>18</td>\n",
       "      <td>babies</td>\n",
       "    </tr>\n",
       "    <tr>\n",
       "      <th>19</th>\n",
       "      <td>19</td>\n",
       "      <td>snacks</td>\n",
       "    </tr>\n",
       "    <tr>\n",
       "      <th>20</th>\n",
       "      <td>20</td>\n",
       "      <td>deli</td>\n",
       "    </tr>\n",
       "    <tr>\n",
       "      <th>21</th>\n",
       "      <td>21</td>\n",
       "      <td>missing</td>\n",
       "    </tr>\n",
       "  </tbody>\n",
       "</table>\n",
       "</div>"
      ],
      "text/plain": [
       "            index                0\n",
       "0   department_id       department\n",
       "1               1           frozen\n",
       "2               2            other\n",
       "3               3           bakery\n",
       "4               4          produce\n",
       "5               5          alcohol\n",
       "6               6    international\n",
       "7               7        beverages\n",
       "8               8             pets\n",
       "9               9  dry goods pasta\n",
       "10             10             bulk\n",
       "11             11    personal care\n",
       "12             12     meat seafood\n",
       "13             13           pantry\n",
       "14             14        breakfast\n",
       "15             15     canned goods\n",
       "16             16       dairy eggs\n",
       "17             17        household\n",
       "18             18           babies\n",
       "19             19           snacks\n",
       "20             20             deli\n",
       "21             21          missing"
      ]
     },
     "execution_count": 24,
     "metadata": {},
     "output_type": "execute_result"
    }
   ],
   "source": [
    "# add an index to a dataframe that doesn't have it\n",
    "df_dep_t.reset_index()"
   ]
  },
  {
   "cell_type": "markdown",
   "id": "68349df3-8bc5-4e09-bcf6-5e92b090aeb7",
   "metadata": {},
   "source": [
    "- ## iloc[]\n"
   ]
  },
  {
   "cell_type": "code",
   "execution_count": null,
   "id": "19f9b849-fca4-4207-82c6-0cabb51b850c",
   "metadata": {},
   "outputs": [],
   "source": [
    "# Create a new header for the dataframe\n",
    "new_header = df_dep_t.iloc[0]\n",
    "# copying the values within row 0 and assign it to a variable. Use []\n"
   ]
  },
  {
   "cell_type": "code",
   "execution_count": 27,
   "id": "7cfae2ee-e873-4d6c-820d-9df14f56fd80",
   "metadata": {},
   "outputs": [
    {
     "data": {
      "text/plain": [
       "0    department\n",
       "Name: department_id, dtype: object"
      ]
     },
     "execution_count": 27,
     "metadata": {},
     "output_type": "execute_result"
    }
   ],
   "source": [
    "new_header"
   ]
  },
  {
   "cell_type": "code",
   "execution_count": 28,
   "id": "36f750ff-33fd-48de-8bbb-ce79e51ecb15",
   "metadata": {},
   "outputs": [],
   "source": [
    "# Deleate the old header\n",
    "# create a new dataframe that copy everything exept the first row\n",
    "df_dep_t_new = df_dep_t[1:]\n",
    "# 1: -> copy everything from the first row on."
   ]
  },
  {
   "cell_type": "code",
   "execution_count": 29,
   "id": "a866ee28-4d23-41b9-b99f-c8d7fbe8d298",
   "metadata": {},
   "outputs": [],
   "source": [
    "# df_dep_t_new"
   ]
  },
  {
   "cell_type": "code",
   "execution_count": 30,
   "id": "cd67db79-6c4a-4f5a-87ef-a0ec71f02e04",
   "metadata": {},
   "outputs": [],
   "source": [
    "# set the new_header variable as the ehader for df_dep_t_new\n",
    "# tell python to use the  list of column in new_header as the new header for df_dep_t_new\n",
    "df_dep_t_new.columns = new_header"
   ]
  },
  {
   "cell_type": "code",
   "execution_count": 31,
   "id": "ee1a34e3-6dd8-4821-9ebe-00028ab01e93",
   "metadata": {},
   "outputs": [],
   "source": [
    "# df_dep_t_new"
   ]
  },
  {
   "cell_type": "markdown",
   "id": "78dbfb37-0bda-4c06-a4cf-580a4c6460f6",
   "metadata": {},
   "source": [
    "# Data Dictionaries\n"
   ]
  },
  {
   "cell_type": "markdown",
   "id": "491308c9-a9f6-4ef3-af33-d1eb4b60e011",
   "metadata": {},
   "source": [
    "- ## to_dict()\n"
   ]
  },
  {
   "cell_type": "code",
   "execution_count": null,
   "id": "9aa2888c-38ef-4832-9cc7-feb94d1d067b",
   "metadata": {},
   "outputs": [],
   "source": [
    "# turn df_dep_t_new into a dictionary\n",
    "data_dict = df_dep_t_new.to_dict(\"index\")"
   ]
  },
  {
   "cell_type": "code",
   "execution_count": 35,
   "id": "29dba625-e22e-4b0c-9eea-a16a7cbc3f9d",
   "metadata": {},
   "outputs": [],
   "source": [
    "# data_dict\n",
    "\n",
    "# to_dict transformed the dataframe into a dictionary and saved into a variable.\n",
    "# the argument 'index' tell Python to use the numbered rows as the key values for the enties in the dictionary."
   ]
  },
  {
   "cell_type": "code",
   "execution_count": 36,
   "id": "377b7df3-f568-4acf-9abd-2d4a3334e2bd",
   "metadata": {},
   "outputs": [
    {
     "data": {
      "text/html": [
       "<div>\n",
       "<style scoped>\n",
       "    .dataframe tbody tr th:only-of-type {\n",
       "        vertical-align: middle;\n",
       "    }\n",
       "\n",
       "    .dataframe tbody tr th {\n",
       "        vertical-align: top;\n",
       "    }\n",
       "\n",
       "    .dataframe thead th {\n",
       "        text-align: right;\n",
       "    }\n",
       "</style>\n",
       "<table border=\"1\" class=\"dataframe\">\n",
       "  <thead>\n",
       "    <tr style=\"text-align: right;\">\n",
       "      <th></th>\n",
       "      <th>product_id</th>\n",
       "      <th>product_name</th>\n",
       "      <th>aisle_id</th>\n",
       "      <th>department_id</th>\n",
       "      <th>prices</th>\n",
       "    </tr>\n",
       "  </thead>\n",
       "  <tbody>\n",
       "    <tr>\n",
       "      <th>0</th>\n",
       "      <td>1</td>\n",
       "      <td>Chocolate Sandwich Cookies</td>\n",
       "      <td>61</td>\n",
       "      <td>19</td>\n",
       "      <td>5.8</td>\n",
       "    </tr>\n",
       "    <tr>\n",
       "      <th>1</th>\n",
       "      <td>2</td>\n",
       "      <td>All-Seasons Salt</td>\n",
       "      <td>104</td>\n",
       "      <td>13</td>\n",
       "      <td>9.3</td>\n",
       "    </tr>\n",
       "    <tr>\n",
       "      <th>2</th>\n",
       "      <td>3</td>\n",
       "      <td>Robust Golden Unsweetened Oolong Tea</td>\n",
       "      <td>94</td>\n",
       "      <td>7</td>\n",
       "      <td>4.5</td>\n",
       "    </tr>\n",
       "    <tr>\n",
       "      <th>3</th>\n",
       "      <td>4</td>\n",
       "      <td>Smart Ones Classic Favorites Mini Rigatoni Wit...</td>\n",
       "      <td>38</td>\n",
       "      <td>1</td>\n",
       "      <td>10.5</td>\n",
       "    </tr>\n",
       "    <tr>\n",
       "      <th>4</th>\n",
       "      <td>5</td>\n",
       "      <td>Green Chile Anytime Sauce</td>\n",
       "      <td>5</td>\n",
       "      <td>13</td>\n",
       "      <td>4.3</td>\n",
       "    </tr>\n",
       "  </tbody>\n",
       "</table>\n",
       "</div>"
      ],
      "text/plain": [
       "   product_id                                       product_name  aisle_id  \\\n",
       "0           1                         Chocolate Sandwich Cookies        61   \n",
       "1           2                                   All-Seasons Salt       104   \n",
       "2           3               Robust Golden Unsweetened Oolong Tea        94   \n",
       "3           4  Smart Ones Classic Favorites Mini Rigatoni Wit...        38   \n",
       "4           5                          Green Chile Anytime Sauce         5   \n",
       "\n",
       "   department_id  prices  \n",
       "0             19     5.8  \n",
       "1             13     9.3  \n",
       "2              7     4.5  \n",
       "3              1    10.5  \n",
       "4             13     4.3  "
      ]
     },
     "execution_count": 36,
     "metadata": {},
     "output_type": "execute_result"
    }
   ],
   "source": [
    "df_prods.head()"
   ]
  },
  {
   "cell_type": "code",
   "execution_count": null,
   "id": "4043432e-d6be-4602-8691-1764e3edf8c5",
   "metadata": {},
   "outputs": [
    {
     "name": "stdout",
     "output_type": "stream",
     "text": [
      "{'department': 'snacks'}\n"
     ]
    }
   ],
   "source": [
    "print(data_dict.get(\"19\"))"
   ]
  },
  {
   "cell_type": "markdown",
   "id": "b7d4c84b-f1f5-426f-ac6e-bf9309576cc0",
   "metadata": {},
   "source": [
    "# Subsetting\n",
    "\n",
    "Subsetting = create smaller dataset from a whole data set based on a filter.\n"
   ]
  },
  {
   "cell_type": "code",
   "execution_count": null,
   "id": "455c2151-51bd-4d1a-a88d-e861fe9cb6f7",
   "metadata": {},
   "outputs": [],
   "source": [
    "# create a dataset for df_prod that contains only data from snack department.\n",
    "df_snacks = df_prods[df_prods[\"department_id\"] == 19]\n",
    "# Within the brackets on the right-hand side, you’re telling Python to look into the\n",
    "# df_prods dataframe and find a column called \"department_id.\"\n",
    "# And, within that \"department_id\" column, it should look for a value of 19"
   ]
  },
  {
   "cell_type": "markdown",
   "id": "8e311795-8f2d-45f0-96e8-b4e56350689f",
   "metadata": {},
   "source": [
    "- ## object['element'] // Indexing\n",
    "  retireve some elements from an object using the index operator []\n"
   ]
  },
  {
   "cell_type": "code",
   "execution_count": null,
   "id": "59996f8c-c341-4220-93f6-f20900410371",
   "metadata": {},
   "outputs": [],
   "source": [
    "# searching for the data\n",
    "# df_prods['department_id']==19\n"
   ]
  },
  {
   "cell_type": "code",
   "execution_count": 42,
   "id": "dd5b2444-200b-419c-bfcf-03dfc509f880",
   "metadata": {},
   "outputs": [],
   "source": [
    "# map the true/false procedure you witnessed in the previous output onto the columns\n",
    "# result only the true values\n",
    "# df_prods[df_prods['department_id'] == 19]"
   ]
  },
  {
   "cell_type": "code",
   "execution_count": null,
   "id": "77a620af-d989-4a5a-a0db-fed12bcab616",
   "metadata": {},
   "outputs": [],
   "source": [
    "# save it into a new variable\n",
    "df_prods_snacks = df_prods[df_prods[\"department_id\"] == 19]"
   ]
  },
  {
   "cell_type": "code",
   "execution_count": 44,
   "id": "e6356aa6-0884-491a-9fd6-c7b3b2184b08",
   "metadata": {},
   "outputs": [
    {
     "data": {
      "text/html": [
       "<div>\n",
       "<style scoped>\n",
       "    .dataframe tbody tr th:only-of-type {\n",
       "        vertical-align: middle;\n",
       "    }\n",
       "\n",
       "    .dataframe tbody tr th {\n",
       "        vertical-align: top;\n",
       "    }\n",
       "\n",
       "    .dataframe thead th {\n",
       "        text-align: right;\n",
       "    }\n",
       "</style>\n",
       "<table border=\"1\" class=\"dataframe\">\n",
       "  <thead>\n",
       "    <tr style=\"text-align: right;\">\n",
       "      <th></th>\n",
       "      <th>product_id</th>\n",
       "      <th>product_name</th>\n",
       "      <th>aisle_id</th>\n",
       "      <th>department_id</th>\n",
       "      <th>prices</th>\n",
       "    </tr>\n",
       "  </thead>\n",
       "  <tbody>\n",
       "    <tr>\n",
       "      <th>0</th>\n",
       "      <td>1</td>\n",
       "      <td>Chocolate Sandwich Cookies</td>\n",
       "      <td>61</td>\n",
       "      <td>19</td>\n",
       "      <td>5.8</td>\n",
       "    </tr>\n",
       "    <tr>\n",
       "      <th>15</th>\n",
       "      <td>16</td>\n",
       "      <td>Mint Chocolate Flavored Syrup</td>\n",
       "      <td>103</td>\n",
       "      <td>19</td>\n",
       "      <td>5.2</td>\n",
       "    </tr>\n",
       "    <tr>\n",
       "      <th>24</th>\n",
       "      <td>25</td>\n",
       "      <td>Salted Caramel Lean Protein &amp; Fiber Bar</td>\n",
       "      <td>3</td>\n",
       "      <td>19</td>\n",
       "      <td>1.9</td>\n",
       "    </tr>\n",
       "    <tr>\n",
       "      <th>31</th>\n",
       "      <td>32</td>\n",
       "      <td>Nacho Cheese White Bean Chips</td>\n",
       "      <td>107</td>\n",
       "      <td>19</td>\n",
       "      <td>4.9</td>\n",
       "    </tr>\n",
       "    <tr>\n",
       "      <th>40</th>\n",
       "      <td>41</td>\n",
       "      <td>Organic Sourdough Einkorn Crackers Rosemary</td>\n",
       "      <td>78</td>\n",
       "      <td>19</td>\n",
       "      <td>6.5</td>\n",
       "    </tr>\n",
       "  </tbody>\n",
       "</table>\n",
       "</div>"
      ],
      "text/plain": [
       "    product_id                                 product_name  aisle_id  \\\n",
       "0            1                   Chocolate Sandwich Cookies        61   \n",
       "15          16                Mint Chocolate Flavored Syrup       103   \n",
       "24          25      Salted Caramel Lean Protein & Fiber Bar         3   \n",
       "31          32                Nacho Cheese White Bean Chips       107   \n",
       "40          41  Organic Sourdough Einkorn Crackers Rosemary        78   \n",
       "\n",
       "    department_id  prices  \n",
       "0              19     5.8  \n",
       "15             19     5.2  \n",
       "24             19     1.9  \n",
       "31             19     4.9  \n",
       "40             19     6.5  "
      ]
     },
     "execution_count": 44,
     "metadata": {},
     "output_type": "execute_result"
    }
   ],
   "source": [
    "df_prods_snacks.head()"
   ]
  },
  {
   "cell_type": "markdown",
   "id": "ab1ccb87-0b33-4375-b13e-3325cda2e703",
   "metadata": {},
   "source": [
    "- ## loc[]\n",
    "  The loc function is similar to the iloc function you used previously, but while iloc looks for an integer position, loc looks for a column name.\n"
   ]
  },
  {
   "cell_type": "code",
   "execution_count": null,
   "id": "d1937cac-2aaa-4320-8ddf-8879a7a8ed3c",
   "metadata": {},
   "outputs": [],
   "source": [
    "# look for instances where the value of \"department_id\" is 19 within the df_prods database:\n",
    "df_snacks_2 = df_prods.loc[df_prods[\"department_id\"] == 19]\n",
    "# rather than using a equal sign here we use isin() to look into a list.\n",
    "# we can put multiple values in isin(). Example: isin([17,18,19])\n",
    "df_snacks_3 = df_prods.loc[df_prods[\"department_id\"].isin([19])]"
   ]
  },
  {
   "cell_type": "markdown",
   "id": "4115cd1b-c163-489d-82fd-09d20b799a45",
   "metadata": {},
   "source": [
    "# Exporting Dataframes\n",
    "\n",
    "The export command takes the following syntax:\n",
    "\n",
    "df_ords.to_csv(os.path.join(path, '02 Data','Prepared Data', 'orders_wrangled.csv'))\n"
   ]
  },
  {
   "cell_type": "markdown",
   "id": "9fbb1ecd-5a55-4b91-b73c-7f8e1fd057f3",
   "metadata": {},
   "source": [
    "# Task 4.4\n"
   ]
  },
  {
   "cell_type": "markdown",
   "id": "04c0dbde-4cd9-40ff-822e-b5b13e8825c4",
   "metadata": {},
   "source": [
    "## 2\n",
    "\n",
    "Find another identifier variable in the df_ords dataframe that doesn’t need to be included in your analysis as a numeric variable.\n",
    "Change it to a suitable format.\n"
   ]
  },
  {
   "cell_type": "code",
   "execution_count": 50,
   "id": "57a39676-6061-4d36-ae45-6a91d3db08fc",
   "metadata": {},
   "outputs": [
    {
     "data": {
      "text/plain": [
       "order_id                   object\n",
       "user_id                     int64\n",
       "order_number                int64\n",
       "orders_day_of_week          int64\n",
       "order_hour_of_day           int64\n",
       "days_since_prior_order    float64\n",
       "dtype: object"
      ]
     },
     "execution_count": 50,
     "metadata": {},
     "output_type": "execute_result"
    }
   ],
   "source": [
    "df_ords.dtypes"
   ]
  },
  {
   "cell_type": "code",
   "execution_count": null,
   "id": "19970970-7d24-465d-9f9b-6e0376b9b627",
   "metadata": {},
   "outputs": [
    {
     "data": {
      "text/plain": [
       "dtype('O')"
      ]
     },
     "execution_count": 51,
     "metadata": {},
     "output_type": "execute_result"
    }
   ],
   "source": [
    "# Change user_id to string\n",
    "df_ords[\"user_id\"] = df_ords[\"user_id\"].astype(str)\n",
    "df_ords[\"user_id\"].dtype"
   ]
  },
  {
   "cell_type": "code",
   "execution_count": null,
   "id": "dc58bb12-dfbd-4f85-8a95-0b4d93af7a7a",
   "metadata": {},
   "outputs": [
    {
     "data": {
      "text/html": [
       "<div>\n",
       "<style scoped>\n",
       "    .dataframe tbody tr th:only-of-type {\n",
       "        vertical-align: middle;\n",
       "    }\n",
       "\n",
       "    .dataframe tbody tr th {\n",
       "        vertical-align: top;\n",
       "    }\n",
       "\n",
       "    .dataframe thead th {\n",
       "        text-align: right;\n",
       "    }\n",
       "</style>\n",
       "<table border=\"1\" class=\"dataframe\">\n",
       "  <thead>\n",
       "    <tr style=\"text-align: right;\">\n",
       "      <th></th>\n",
       "      <th>orders_day_of_week</th>\n",
       "      <th>order_hour_of_day</th>\n",
       "      <th>days_since_prior_order</th>\n",
       "    </tr>\n",
       "  </thead>\n",
       "  <tbody>\n",
       "    <tr>\n",
       "      <th>count</th>\n",
       "      <td>3.421083e+06</td>\n",
       "      <td>3.421083e+06</td>\n",
       "      <td>3.214874e+06</td>\n",
       "    </tr>\n",
       "    <tr>\n",
       "      <th>mean</th>\n",
       "      <td>2.776219e+00</td>\n",
       "      <td>1.345202e+01</td>\n",
       "      <td>1.111484e+01</td>\n",
       "    </tr>\n",
       "    <tr>\n",
       "      <th>std</th>\n",
       "      <td>2.046829e+00</td>\n",
       "      <td>4.226088e+00</td>\n",
       "      <td>9.206737e+00</td>\n",
       "    </tr>\n",
       "    <tr>\n",
       "      <th>min</th>\n",
       "      <td>0.000000e+00</td>\n",
       "      <td>0.000000e+00</td>\n",
       "      <td>0.000000e+00</td>\n",
       "    </tr>\n",
       "    <tr>\n",
       "      <th>25%</th>\n",
       "      <td>1.000000e+00</td>\n",
       "      <td>1.000000e+01</td>\n",
       "      <td>4.000000e+00</td>\n",
       "    </tr>\n",
       "    <tr>\n",
       "      <th>50%</th>\n",
       "      <td>3.000000e+00</td>\n",
       "      <td>1.300000e+01</td>\n",
       "      <td>7.000000e+00</td>\n",
       "    </tr>\n",
       "    <tr>\n",
       "      <th>75%</th>\n",
       "      <td>5.000000e+00</td>\n",
       "      <td>1.600000e+01</td>\n",
       "      <td>1.500000e+01</td>\n",
       "    </tr>\n",
       "    <tr>\n",
       "      <th>max</th>\n",
       "      <td>6.000000e+00</td>\n",
       "      <td>2.300000e+01</td>\n",
       "      <td>3.000000e+01</td>\n",
       "    </tr>\n",
       "  </tbody>\n",
       "</table>\n",
       "</div>"
      ],
      "text/plain": [
       "       orders_day_of_week  order_hour_of_day  days_since_prior_order\n",
       "count        3.421083e+06       3.421083e+06            3.214874e+06\n",
       "mean         2.776219e+00       1.345202e+01            1.111484e+01\n",
       "std          2.046829e+00       4.226088e+00            9.206737e+00\n",
       "min          0.000000e+00       0.000000e+00            0.000000e+00\n",
       "25%          1.000000e+00       1.000000e+01            4.000000e+00\n",
       "50%          3.000000e+00       1.300000e+01            7.000000e+00\n",
       "75%          5.000000e+00       1.600000e+01            1.500000e+01\n",
       "max          6.000000e+00       2.300000e+01            3.000000e+01"
      ]
     },
     "execution_count": 52,
     "metadata": {},
     "output_type": "execute_result"
    }
   ],
   "source": [
    "# Change also order_number into a string for the same reason\n",
    "df_ords[\"order_number\"] = df_ords[\"order_number\"].astype(str)\n",
    "df_ords.describe()"
   ]
  },
  {
   "cell_type": "markdown",
   "id": "81bfa100-fc89-4d45-b734-1c0402e57393",
   "metadata": {},
   "source": [
    "## 3\n",
    "\n",
    "Look for a variable in your df_ords dataframe with an unintuitive name and change its name without overwriting the dataframe.\n"
   ]
  },
  {
   "cell_type": "code",
   "execution_count": null,
   "id": "2f3a9464-aa50-427a-a66e-be175b0d3c8f",
   "metadata": {},
   "outputs": [
    {
     "data": {
      "text/plain": [
       "order_id                  object\n",
       "user_id                   object\n",
       "order_number              object\n",
       "orders_day_of_week         int64\n",
       "order_hour_of_day          int64\n",
       "days_since_last_order    float64\n",
       "dtype: object"
      ]
     },
     "execution_count": 54,
     "metadata": {},
     "output_type": "execute_result"
    }
   ],
   "source": [
    "# All the names are quite understandble the only one that could be written a bit better is 'days_since_prior_order'\n",
    "# 'days_since_prior_order' renamed to 'days_since_last_order'\n",
    "# Since the task specify to not overwrite the dataframe i will save it in 'df_ords_renamed'\n",
    "df_ords_renamed = df_ords.rename(\n",
    "    columns={\"days_since_prior_order\": \"days_since_last_order\"}\n",
    ")\n",
    "df_ords_renamed.dtypes"
   ]
  },
  {
   "cell_type": "markdown",
   "id": "442139dc-3fd2-4cf1-8d0f-fe52221bc6ce",
   "metadata": {},
   "source": [
    "## 4\n",
    "\n",
    "Your client wants to know what the busiest hour is for placing orders. Find the frequency of the corresponding variable and share your findings.\n"
   ]
  },
  {
   "cell_type": "code",
   "execution_count": null,
   "id": "636f6632-4a61-4335-bb48-003061d1b4bb",
   "metadata": {},
   "outputs": [
    {
     "data": {
      "text/plain": [
       "order_hour_of_day\n",
       "10    288418\n",
       "11    284728\n",
       "15    283639\n",
       "14    283042\n",
       "13    277999\n",
       "12    272841\n",
       "16    272553\n",
       "9     257812\n",
       "17    228795\n",
       "18    182912\n",
       "8     178201\n",
       "19    140569\n",
       "20    104292\n",
       "7      91868\n",
       "21     78109\n",
       "22     61468\n",
       "23     40043\n",
       "6      30529\n",
       "0      22758\n",
       "1      12398\n",
       "5       9569\n",
       "2       7539\n",
       "4       5527\n",
       "3       5474\n",
       "Name: count, dtype: int64"
      ]
     },
     "execution_count": 56,
     "metadata": {},
     "output_type": "execute_result"
    }
   ],
   "source": [
    "# find frequency using value_counts(dropna = False)\n",
    "df_ords[\"order_hour_of_day\"].value_counts(dropna=False)\n"
   ]
  },
  {
   "cell_type": "markdown",
   "id": "78900836-0e13-43bd-bfe0-6a26a41cc170",
   "metadata": {},
   "source": [
    "The busiest hour for placing orders is at 10. the timeframe between 8 and 18 is trhe busiest.\n"
   ]
  },
  {
   "cell_type": "markdown",
   "id": "c06f59e5-6daf-4b16-a807-50f02ad8765d",
   "metadata": {},
   "source": [
    "## 5\n",
    "\n",
    "Determine the meaning behind a value of 4 in the \"department_id\" column within the df_prods dataframe using a data dictionary.\n"
   ]
  },
  {
   "cell_type": "code",
   "execution_count": null,
   "id": "b2ea9e22-af04-4c1c-ba4e-c9038e0fc4fd",
   "metadata": {},
   "outputs": [
    {
     "name": "stdout",
     "output_type": "stream",
     "text": [
      "{'department': 'produce'}\n"
     ]
    }
   ],
   "source": [
    "# Print the department '4' from data dictionary\n",
    "print(data_dict.get(\"4\"))"
   ]
  },
  {
   "cell_type": "markdown",
   "id": "b88fd898-9b01-48df-b5cc-f5b97ada034e",
   "metadata": {},
   "source": [
    "## 6\n",
    "\n",
    "The sales team in your client’s organization wants to know more about breakfast item sales. Create a subset containing only the required information.\n"
   ]
  },
  {
   "cell_type": "code",
   "execution_count": 61,
   "id": "d246ab28-469f-49d3-a1ad-96e6d2408916",
   "metadata": {},
   "outputs": [
    {
     "data": {
      "text/plain": [
       "{'1': {'department': 'frozen'},\n",
       " '2': {'department': 'other'},\n",
       " '3': {'department': 'bakery'},\n",
       " '4': {'department': 'produce'},\n",
       " '5': {'department': 'alcohol'},\n",
       " '6': {'department': 'international'},\n",
       " '7': {'department': 'beverages'},\n",
       " '8': {'department': 'pets'},\n",
       " '9': {'department': 'dry goods pasta'},\n",
       " '10': {'department': 'bulk'},\n",
       " '11': {'department': 'personal care'},\n",
       " '12': {'department': 'meat seafood'},\n",
       " '13': {'department': 'pantry'},\n",
       " '14': {'department': 'breakfast'},\n",
       " '15': {'department': 'canned goods'},\n",
       " '16': {'department': 'dairy eggs'},\n",
       " '17': {'department': 'household'},\n",
       " '18': {'department': 'babies'},\n",
       " '19': {'department': 'snacks'},\n",
       " '20': {'department': 'deli'},\n",
       " '21': {'department': 'missing'}}"
      ]
     },
     "execution_count": 61,
     "metadata": {},
     "output_type": "execute_result"
    }
   ],
   "source": [
    "# get the department number of breakfast department.\n",
    "data_dict\n"
   ]
  },
  {
   "cell_type": "code",
   "execution_count": null,
   "id": "be2826b7-5e35-4b92-95e6-f6094546020d",
   "metadata": {},
   "outputs": [],
   "source": [
    "# breakfast is number 14\n",
    "df_prods_breakfast = df_prods.loc[df_prods[\"department_id\"] == 14]"
   ]
  },
  {
   "cell_type": "code",
   "execution_count": null,
   "id": "e8bae2db-da65-45b5-8d5d-960a7eda76b2",
   "metadata": {},
   "outputs": [
    {
     "data": {
      "text/html": [
       "<div>\n",
       "<style scoped>\n",
       "    .dataframe tbody tr th:only-of-type {\n",
       "        vertical-align: middle;\n",
       "    }\n",
       "\n",
       "    .dataframe tbody tr th {\n",
       "        vertical-align: top;\n",
       "    }\n",
       "\n",
       "    .dataframe thead th {\n",
       "        text-align: right;\n",
       "    }\n",
       "</style>\n",
       "<table border=\"1\" class=\"dataframe\">\n",
       "  <thead>\n",
       "    <tr style=\"text-align: right;\">\n",
       "      <th></th>\n",
       "      <th>product_id</th>\n",
       "      <th>product_name</th>\n",
       "      <th>aisle_id</th>\n",
       "      <th>department_id</th>\n",
       "      <th>prices</th>\n",
       "    </tr>\n",
       "  </thead>\n",
       "  <tbody>\n",
       "    <tr>\n",
       "      <th>27</th>\n",
       "      <td>28</td>\n",
       "      <td>Wheat Chex Cereal</td>\n",
       "      <td>121</td>\n",
       "      <td>14</td>\n",
       "      <td>10.1</td>\n",
       "    </tr>\n",
       "    <tr>\n",
       "      <th>33</th>\n",
       "      <td>34</td>\n",
       "      <td>NaN</td>\n",
       "      <td>121</td>\n",
       "      <td>14</td>\n",
       "      <td>12.2</td>\n",
       "    </tr>\n",
       "    <tr>\n",
       "      <th>67</th>\n",
       "      <td>68</td>\n",
       "      <td>Pancake Mix, Buttermilk</td>\n",
       "      <td>130</td>\n",
       "      <td>14</td>\n",
       "      <td>13.7</td>\n",
       "    </tr>\n",
       "    <tr>\n",
       "      <th>89</th>\n",
       "      <td>90</td>\n",
       "      <td>Smorz Cereal</td>\n",
       "      <td>121</td>\n",
       "      <td>14</td>\n",
       "      <td>3.9</td>\n",
       "    </tr>\n",
       "    <tr>\n",
       "      <th>210</th>\n",
       "      <td>211</td>\n",
       "      <td>Gluten Free Organic Cereal Coconut Maple Vanilla</td>\n",
       "      <td>130</td>\n",
       "      <td>14</td>\n",
       "      <td>3.6</td>\n",
       "    </tr>\n",
       "  </tbody>\n",
       "</table>\n",
       "</div>"
      ],
      "text/plain": [
       "     product_id                                      product_name  aisle_id  \\\n",
       "27           28                                 Wheat Chex Cereal       121   \n",
       "33           34                                               NaN       121   \n",
       "67           68                           Pancake Mix, Buttermilk       130   \n",
       "89           90                                      Smorz Cereal       121   \n",
       "210         211  Gluten Free Organic Cereal Coconut Maple Vanilla       130   \n",
       "\n",
       "     department_id  prices  \n",
       "27              14    10.1  \n",
       "33              14    12.2  \n",
       "67              14    13.7  \n",
       "89              14     3.9  \n",
       "210             14     3.6  "
      ]
     },
     "execution_count": 63,
     "metadata": {},
     "output_type": "execute_result"
    }
   ],
   "source": [
    "# check the breakfast dataframe\n",
    "df_prods_breakfast.head()"
   ]
  },
  {
   "cell_type": "markdown",
   "id": "8844686c-1ee5-4bfa-b9d0-ec23558941bb",
   "metadata": {},
   "source": [
    "## 7\n",
    "\n",
    "They’d also like to see details about products that customers might use to throw dinner parties. Your task is to find all observations from the entire dataframe that include items from the following departments: alcohol, deli, beverages, and meat/seafood. You’ll need to present this subset to your client.\n"
   ]
  },
  {
   "cell_type": "code",
   "execution_count": null,
   "id": "302ce616-6b25-49ad-b76e-85838d59e14b",
   "metadata": {},
   "outputs": [],
   "source": [
    "# create new dataframe using the isin() function. The department that i need are: 5,7,12,20\n",
    "df_prods_dinner_party = df_prods.loc[df_prods[\"department_id\"].isin([5, 7, 12, 20])]"
   ]
  },
  {
   "cell_type": "code",
   "execution_count": 66,
   "id": "7cba9738-7966-455a-88fb-dff5dda7e473",
   "metadata": {},
   "outputs": [
    {
     "data": {
      "text/html": [
       "<div>\n",
       "<style scoped>\n",
       "    .dataframe tbody tr th:only-of-type {\n",
       "        vertical-align: middle;\n",
       "    }\n",
       "\n",
       "    .dataframe tbody tr th {\n",
       "        vertical-align: top;\n",
       "    }\n",
       "\n",
       "    .dataframe thead th {\n",
       "        text-align: right;\n",
       "    }\n",
       "</style>\n",
       "<table border=\"1\" class=\"dataframe\">\n",
       "  <thead>\n",
       "    <tr style=\"text-align: right;\">\n",
       "      <th></th>\n",
       "      <th>product_id</th>\n",
       "      <th>product_name</th>\n",
       "      <th>aisle_id</th>\n",
       "      <th>department_id</th>\n",
       "      <th>prices</th>\n",
       "    </tr>\n",
       "  </thead>\n",
       "  <tbody>\n",
       "    <tr>\n",
       "      <th>2</th>\n",
       "      <td>3</td>\n",
       "      <td>Robust Golden Unsweetened Oolong Tea</td>\n",
       "      <td>94</td>\n",
       "      <td>7</td>\n",
       "      <td>4.5</td>\n",
       "    </tr>\n",
       "    <tr>\n",
       "      <th>6</th>\n",
       "      <td>7</td>\n",
       "      <td>Pure Coconut Water With Orange</td>\n",
       "      <td>98</td>\n",
       "      <td>7</td>\n",
       "      <td>4.4</td>\n",
       "    </tr>\n",
       "    <tr>\n",
       "      <th>9</th>\n",
       "      <td>10</td>\n",
       "      <td>Sparkling Orange Juice &amp; Prickly Pear Beverage</td>\n",
       "      <td>115</td>\n",
       "      <td>7</td>\n",
       "      <td>8.4</td>\n",
       "    </tr>\n",
       "    <tr>\n",
       "      <th>10</th>\n",
       "      <td>11</td>\n",
       "      <td>Peach Mango Juice</td>\n",
       "      <td>31</td>\n",
       "      <td>7</td>\n",
       "      <td>2.8</td>\n",
       "    </tr>\n",
       "    <tr>\n",
       "      <th>16</th>\n",
       "      <td>17</td>\n",
       "      <td>Rendered Duck Fat</td>\n",
       "      <td>35</td>\n",
       "      <td>12</td>\n",
       "      <td>17.1</td>\n",
       "    </tr>\n",
       "  </tbody>\n",
       "</table>\n",
       "</div>"
      ],
      "text/plain": [
       "    product_id                                    product_name  aisle_id  \\\n",
       "2            3            Robust Golden Unsweetened Oolong Tea        94   \n",
       "6            7                  Pure Coconut Water With Orange        98   \n",
       "9           10  Sparkling Orange Juice & Prickly Pear Beverage       115   \n",
       "10          11                               Peach Mango Juice        31   \n",
       "16          17                               Rendered Duck Fat        35   \n",
       "\n",
       "    department_id  prices  \n",
       "2               7     4.5  \n",
       "6               7     4.4  \n",
       "9               7     8.4  \n",
       "10              7     2.8  \n",
       "16             12    17.1  "
      ]
     },
     "execution_count": 66,
     "metadata": {},
     "output_type": "execute_result"
    }
   ],
   "source": [
    "# check it\n",
    "df_prods_dinner_party.head()"
   ]
  },
  {
   "cell_type": "markdown",
   "id": "02b3262e-ba4c-4464-93d4-3c4c79b36cb8",
   "metadata": {},
   "source": [
    "## 8\n",
    "\n",
    "It’s important that you keep track of total counts in your dataframes. How many rows does the last dataframe you created have?\n"
   ]
  },
  {
   "cell_type": "code",
   "execution_count": 68,
   "id": "aa4aa8b1-1c52-41df-9755-aaf094bcda6f",
   "metadata": {},
   "outputs": [
    {
     "data": {
      "text/plain": [
       "(7650, 5)"
      ]
     },
     "execution_count": 68,
     "metadata": {},
     "output_type": "execute_result"
    }
   ],
   "source": [
    "# use shape to get rowns and columns\n",
    "df_prods_dinner_party.shape"
   ]
  },
  {
   "cell_type": "code",
   "execution_count": 69,
   "id": "3c653b97-1c48-493f-b7f4-7a3ab14e7180",
   "metadata": {},
   "outputs": [],
   "source": [
    "# there are 7650 rows"
   ]
  },
  {
   "cell_type": "markdown",
   "id": "e6d9b45f-a4e3-4b90-a47f-815157968dd7",
   "metadata": {},
   "source": [
    "## 9\n",
    "\n",
    "Someone from the data engineers team in Instacart thinks they’ve spotted something strange about the customer with a \"user_id\" of “1.” Extract all the information you can about this user.\n"
   ]
  },
  {
   "cell_type": "code",
   "execution_count": null,
   "id": "bdf2a7c4-b4ee-45f5-897b-596f9f38bc6a",
   "metadata": {},
   "outputs": [],
   "source": [
    "# save the data of user_id = 1 in the variable investigated_customer\n",
    "\n",
    "# investigated_customer = df_ords.loc[df_ords['user_id'] == 1]\n",
    "# investigated_customer = df_ords[df_ords['user_id'] == 1]\n",
    "investigated_customer = df_ords_renamed[df_ords_renamed[\"user_id\"] == \"1\"]\n"
   ]
  },
  {
   "cell_type": "code",
   "execution_count": 72,
   "id": "43c5ffc8-820d-49bc-8911-3ae7602dd5dc",
   "metadata": {
    "scrolled": true
   },
   "outputs": [
    {
     "data": {
      "text/html": [
       "<div>\n",
       "<style scoped>\n",
       "    .dataframe tbody tr th:only-of-type {\n",
       "        vertical-align: middle;\n",
       "    }\n",
       "\n",
       "    .dataframe tbody tr th {\n",
       "        vertical-align: top;\n",
       "    }\n",
       "\n",
       "    .dataframe thead th {\n",
       "        text-align: right;\n",
       "    }\n",
       "</style>\n",
       "<table border=\"1\" class=\"dataframe\">\n",
       "  <thead>\n",
       "    <tr style=\"text-align: right;\">\n",
       "      <th></th>\n",
       "      <th>order_id</th>\n",
       "      <th>user_id</th>\n",
       "      <th>order_number</th>\n",
       "      <th>orders_day_of_week</th>\n",
       "      <th>order_hour_of_day</th>\n",
       "      <th>days_since_last_order</th>\n",
       "    </tr>\n",
       "  </thead>\n",
       "  <tbody>\n",
       "    <tr>\n",
       "      <th>0</th>\n",
       "      <td>2539329</td>\n",
       "      <td>1</td>\n",
       "      <td>1</td>\n",
       "      <td>2</td>\n",
       "      <td>8</td>\n",
       "      <td>NaN</td>\n",
       "    </tr>\n",
       "    <tr>\n",
       "      <th>1</th>\n",
       "      <td>2398795</td>\n",
       "      <td>1</td>\n",
       "      <td>2</td>\n",
       "      <td>3</td>\n",
       "      <td>7</td>\n",
       "      <td>15.0</td>\n",
       "    </tr>\n",
       "    <tr>\n",
       "      <th>2</th>\n",
       "      <td>473747</td>\n",
       "      <td>1</td>\n",
       "      <td>3</td>\n",
       "      <td>3</td>\n",
       "      <td>12</td>\n",
       "      <td>21.0</td>\n",
       "    </tr>\n",
       "    <tr>\n",
       "      <th>3</th>\n",
       "      <td>2254736</td>\n",
       "      <td>1</td>\n",
       "      <td>4</td>\n",
       "      <td>4</td>\n",
       "      <td>7</td>\n",
       "      <td>29.0</td>\n",
       "    </tr>\n",
       "    <tr>\n",
       "      <th>4</th>\n",
       "      <td>431534</td>\n",
       "      <td>1</td>\n",
       "      <td>5</td>\n",
       "      <td>4</td>\n",
       "      <td>15</td>\n",
       "      <td>28.0</td>\n",
       "    </tr>\n",
       "    <tr>\n",
       "      <th>5</th>\n",
       "      <td>3367565</td>\n",
       "      <td>1</td>\n",
       "      <td>6</td>\n",
       "      <td>2</td>\n",
       "      <td>7</td>\n",
       "      <td>19.0</td>\n",
       "    </tr>\n",
       "    <tr>\n",
       "      <th>6</th>\n",
       "      <td>550135</td>\n",
       "      <td>1</td>\n",
       "      <td>7</td>\n",
       "      <td>1</td>\n",
       "      <td>9</td>\n",
       "      <td>20.0</td>\n",
       "    </tr>\n",
       "    <tr>\n",
       "      <th>7</th>\n",
       "      <td>3108588</td>\n",
       "      <td>1</td>\n",
       "      <td>8</td>\n",
       "      <td>1</td>\n",
       "      <td>14</td>\n",
       "      <td>14.0</td>\n",
       "    </tr>\n",
       "    <tr>\n",
       "      <th>8</th>\n",
       "      <td>2295261</td>\n",
       "      <td>1</td>\n",
       "      <td>9</td>\n",
       "      <td>1</td>\n",
       "      <td>16</td>\n",
       "      <td>0.0</td>\n",
       "    </tr>\n",
       "    <tr>\n",
       "      <th>9</th>\n",
       "      <td>2550362</td>\n",
       "      <td>1</td>\n",
       "      <td>10</td>\n",
       "      <td>4</td>\n",
       "      <td>8</td>\n",
       "      <td>30.0</td>\n",
       "    </tr>\n",
       "    <tr>\n",
       "      <th>10</th>\n",
       "      <td>1187899</td>\n",
       "      <td>1</td>\n",
       "      <td>11</td>\n",
       "      <td>4</td>\n",
       "      <td>8</td>\n",
       "      <td>14.0</td>\n",
       "    </tr>\n",
       "  </tbody>\n",
       "</table>\n",
       "</div>"
      ],
      "text/plain": [
       "   order_id user_id order_number  orders_day_of_week  order_hour_of_day  \\\n",
       "0   2539329       1            1                   2                  8   \n",
       "1   2398795       1            2                   3                  7   \n",
       "2    473747       1            3                   3                 12   \n",
       "3   2254736       1            4                   4                  7   \n",
       "4    431534       1            5                   4                 15   \n",
       "5   3367565       1            6                   2                  7   \n",
       "6    550135       1            7                   1                  9   \n",
       "7   3108588       1            8                   1                 14   \n",
       "8   2295261       1            9                   1                 16   \n",
       "9   2550362       1           10                   4                  8   \n",
       "10  1187899       1           11                   4                  8   \n",
       "\n",
       "    days_since_last_order  \n",
       "0                     NaN  \n",
       "1                    15.0  \n",
       "2                    21.0  \n",
       "3                    29.0  \n",
       "4                    28.0  \n",
       "5                    19.0  \n",
       "6                    20.0  \n",
       "7                    14.0  \n",
       "8                     0.0  \n",
       "9                    30.0  \n",
       "10                   14.0  "
      ]
     },
     "execution_count": 72,
     "metadata": {},
     "output_type": "execute_result"
    }
   ],
   "source": [
    "# check it\n",
    "investigated_customer"
   ]
  },
  {
   "cell_type": "markdown",
   "id": "a412ee01-61d2-4835-9c6e-b2152bbee097",
   "metadata": {},
   "source": [
    "## 10\n",
    "\n",
    "You also need to provide some details about this user’s behavior. What basic stats can you provide based on the information you have?\n"
   ]
  },
  {
   "cell_type": "code",
   "execution_count": 74,
   "id": "747486ed-7759-4345-8dfd-a0a7932dd296",
   "metadata": {},
   "outputs": [
    {
     "data": {
      "text/html": [
       "<div>\n",
       "<style scoped>\n",
       "    .dataframe tbody tr th:only-of-type {\n",
       "        vertical-align: middle;\n",
       "    }\n",
       "\n",
       "    .dataframe tbody tr th {\n",
       "        vertical-align: top;\n",
       "    }\n",
       "\n",
       "    .dataframe thead th {\n",
       "        text-align: right;\n",
       "    }\n",
       "</style>\n",
       "<table border=\"1\" class=\"dataframe\">\n",
       "  <thead>\n",
       "    <tr style=\"text-align: right;\">\n",
       "      <th></th>\n",
       "      <th>orders_day_of_week</th>\n",
       "      <th>order_hour_of_day</th>\n",
       "      <th>days_since_last_order</th>\n",
       "    </tr>\n",
       "  </thead>\n",
       "  <tbody>\n",
       "    <tr>\n",
       "      <th>count</th>\n",
       "      <td>11.000000</td>\n",
       "      <td>11.000000</td>\n",
       "      <td>10.000000</td>\n",
       "    </tr>\n",
       "    <tr>\n",
       "      <th>mean</th>\n",
       "      <td>2.636364</td>\n",
       "      <td>10.090909</td>\n",
       "      <td>19.000000</td>\n",
       "    </tr>\n",
       "    <tr>\n",
       "      <th>std</th>\n",
       "      <td>1.286291</td>\n",
       "      <td>3.477198</td>\n",
       "      <td>9.030811</td>\n",
       "    </tr>\n",
       "    <tr>\n",
       "      <th>min</th>\n",
       "      <td>1.000000</td>\n",
       "      <td>7.000000</td>\n",
       "      <td>0.000000</td>\n",
       "    </tr>\n",
       "    <tr>\n",
       "      <th>25%</th>\n",
       "      <td>1.500000</td>\n",
       "      <td>7.500000</td>\n",
       "      <td>14.250000</td>\n",
       "    </tr>\n",
       "    <tr>\n",
       "      <th>50%</th>\n",
       "      <td>3.000000</td>\n",
       "      <td>8.000000</td>\n",
       "      <td>19.500000</td>\n",
       "    </tr>\n",
       "    <tr>\n",
       "      <th>75%</th>\n",
       "      <td>4.000000</td>\n",
       "      <td>13.000000</td>\n",
       "      <td>26.250000</td>\n",
       "    </tr>\n",
       "    <tr>\n",
       "      <th>max</th>\n",
       "      <td>4.000000</td>\n",
       "      <td>16.000000</td>\n",
       "      <td>30.000000</td>\n",
       "    </tr>\n",
       "  </tbody>\n",
       "</table>\n",
       "</div>"
      ],
      "text/plain": [
       "       orders_day_of_week  order_hour_of_day  days_since_last_order\n",
       "count           11.000000          11.000000              10.000000\n",
       "mean             2.636364          10.090909              19.000000\n",
       "std              1.286291           3.477198               9.030811\n",
       "min              1.000000           7.000000               0.000000\n",
       "25%              1.500000           7.500000              14.250000\n",
       "50%              3.000000           8.000000              19.500000\n",
       "75%              4.000000          13.000000              26.250000\n",
       "max              4.000000          16.000000              30.000000"
      ]
     },
     "execution_count": 74,
     "metadata": {},
     "output_type": "execute_result"
    }
   ],
   "source": [
    "investigated_customer.describe()"
   ]
  },
  {
   "cell_type": "markdown",
   "id": "068c51e9-452e-4333-8b23-dc362035117f",
   "metadata": {},
   "source": [
    "This user has palced 11 orders, he places orders only the first 4 days of the week so if we consider Sunday as the first day he palces orders in between Sunday and Wednesday. The averge time in between orders is 19 days. The average of orders were made at 10AM.\n",
    "The minimum amount of time that he spent without making an order is 0 so this suggest that he ordered 2 times in a day.\n",
    "The maximimum amount of time that he spent without making an order was 30 days.\n"
   ]
  },
  {
   "cell_type": "markdown",
   "id": "7bdfb49f-e86e-4d3f-b215-8dccd034bfae",
   "metadata": {},
   "source": [
    "## 11\n",
    "\n",
    "Check the organization and structure of your notebook. Be sure to include section headings and code comments.\n"
   ]
  },
  {
   "cell_type": "markdown",
   "id": "6c72378e-0b0b-4aa2-964c-ded73e1ed173",
   "metadata": {},
   "source": [
    "## 12\n",
    "\n",
    "Export your df_ords dataframe as “orders_wrangled.csv” in your “Prepared Data” folder.\n"
   ]
  },
  {
   "cell_type": "code",
   "execution_count": null,
   "id": "19bb1d5d-5d24-4c18-a1d6-5df22207c490",
   "metadata": {},
   "outputs": [],
   "source": [
    "# Export order_wrangled\n",
    "# df_ords.to_csv(os.path.join(path, '02 Data', 'Prepared data', 'orders_wrangled.csv'), index=False)\n",
    "# Export also order_renamed\n",
    "df_ords_renamed.to_csv(\n",
    "    os.path.join(path, \"02 Data\", \"Prepared data\", \"orders_renamed_wrangled.csv\"),\n",
    "    index=False,\n",
    ")"
   ]
  },
  {
   "cell_type": "markdown",
   "id": "24b44099-2f6b-4398-9ce3-dbcaba34667b",
   "metadata": {},
   "source": [
    "## 13\n",
    "\n",
    "Export the df_dep_t_new dataframe as “departments_wrangled.csv” in your “Prepared Data” folder so that you have a “.csv” file of your departments data in the correct format.\n"
   ]
  },
  {
   "cell_type": "code",
   "execution_count": null,
   "id": "b9139b9f-e420-4833-910b-f403cca32de3",
   "metadata": {},
   "outputs": [],
   "source": [
    "# Export department_wrangled\n",
    "df_dep_t_new.to_csv(\n",
    "    os.path.join(path, \"02 Data\", \"Prepared data\", \"department_wrangled.csv\")\n",
    ")"
   ]
  },
  {
   "cell_type": "code",
   "execution_count": 158,
   "id": "92600307-6ebf-4fdd-91ea-a5870c7ae67d",
   "metadata": {},
   "outputs": [
    {
     "data": {
      "text/html": [
       "<div>\n",
       "<style scoped>\n",
       "    .dataframe tbody tr th:only-of-type {\n",
       "        vertical-align: middle;\n",
       "    }\n",
       "\n",
       "    .dataframe tbody tr th {\n",
       "        vertical-align: top;\n",
       "    }\n",
       "\n",
       "    .dataframe thead th {\n",
       "        text-align: right;\n",
       "    }\n",
       "</style>\n",
       "<table border=\"1\" class=\"dataframe\">\n",
       "  <thead>\n",
       "    <tr style=\"text-align: right;\">\n",
       "      <th></th>\n",
       "      <th>orders_day_of_week</th>\n",
       "      <th>order_hour_of_day</th>\n",
       "      <th>days_since_last_order</th>\n",
       "    </tr>\n",
       "  </thead>\n",
       "  <tbody>\n",
       "    <tr>\n",
       "      <th>count</th>\n",
       "      <td>3.421083e+06</td>\n",
       "      <td>3.421083e+06</td>\n",
       "      <td>3.214874e+06</td>\n",
       "    </tr>\n",
       "    <tr>\n",
       "      <th>mean</th>\n",
       "      <td>2.776219e+00</td>\n",
       "      <td>1.345202e+01</td>\n",
       "      <td>1.111484e+01</td>\n",
       "    </tr>\n",
       "    <tr>\n",
       "      <th>std</th>\n",
       "      <td>2.046829e+00</td>\n",
       "      <td>4.226088e+00</td>\n",
       "      <td>9.206737e+00</td>\n",
       "    </tr>\n",
       "    <tr>\n",
       "      <th>min</th>\n",
       "      <td>0.000000e+00</td>\n",
       "      <td>0.000000e+00</td>\n",
       "      <td>0.000000e+00</td>\n",
       "    </tr>\n",
       "    <tr>\n",
       "      <th>25%</th>\n",
       "      <td>1.000000e+00</td>\n",
       "      <td>1.000000e+01</td>\n",
       "      <td>4.000000e+00</td>\n",
       "    </tr>\n",
       "    <tr>\n",
       "      <th>50%</th>\n",
       "      <td>3.000000e+00</td>\n",
       "      <td>1.300000e+01</td>\n",
       "      <td>7.000000e+00</td>\n",
       "    </tr>\n",
       "    <tr>\n",
       "      <th>75%</th>\n",
       "      <td>5.000000e+00</td>\n",
       "      <td>1.600000e+01</td>\n",
       "      <td>1.500000e+01</td>\n",
       "    </tr>\n",
       "    <tr>\n",
       "      <th>max</th>\n",
       "      <td>6.000000e+00</td>\n",
       "      <td>2.300000e+01</td>\n",
       "      <td>3.000000e+01</td>\n",
       "    </tr>\n",
       "  </tbody>\n",
       "</table>\n",
       "</div>"
      ],
      "text/plain": [
       "       orders_day_of_week  order_hour_of_day  days_since_last_order\n",
       "count        3.421083e+06       3.421083e+06           3.214874e+06\n",
       "mean         2.776219e+00       1.345202e+01           1.111484e+01\n",
       "std          2.046829e+00       4.226088e+00           9.206737e+00\n",
       "min          0.000000e+00       0.000000e+00           0.000000e+00\n",
       "25%          1.000000e+00       1.000000e+01           4.000000e+00\n",
       "50%          3.000000e+00       1.300000e+01           7.000000e+00\n",
       "75%          5.000000e+00       1.600000e+01           1.500000e+01\n",
       "max          6.000000e+00       2.300000e+01           3.000000e+01"
      ]
     },
     "execution_count": 158,
     "metadata": {},
     "output_type": "execute_result"
    }
   ],
   "source": [
    "df_ords_renamed.describe()"
   ]
  },
  {
   "cell_type": "markdown",
   "id": "0b81c5b1-d0a9-45a3-9b3e-ef186eb12ca6",
   "metadata": {},
   "source": []
  }
 ],
 "metadata": {
  "kernelspec": {
   "display_name": "base",
   "language": "python",
   "name": "python3"
  },
  "language_info": {
   "codemirror_mode": {
    "name": "ipython",
    "version": 3
   },
   "file_extension": ".py",
   "mimetype": "text/x-python",
   "name": "python",
   "nbconvert_exporter": "python",
   "pygments_lexer": "ipython3",
   "version": "3.12.7"
  }
 },
 "nbformat": 4,
 "nbformat_minor": 5
}
