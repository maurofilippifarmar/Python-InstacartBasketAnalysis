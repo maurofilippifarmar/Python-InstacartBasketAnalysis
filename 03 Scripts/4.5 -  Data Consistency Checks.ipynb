{
 "cells": [
  {
   "cell_type": "code",
   "execution_count": 1,
   "id": "e24aaa05-e66e-43f3-8ce9-e26b51150918",
   "metadata": {},
   "outputs": [],
   "source": [
    "# Import libraries\n",
    "import pandas as pd\n",
    "import numpy as np\n",
    "import os\n",
    "\n",
    "# Import dataframes\n",
    "path = r\"D:\\0 - Data Analytics\\4 - Python fundamentals for Data Analysts\\Instacart Basket Analisys\"\n",
    "# vars_list = ['order_id', 'user_id', 'order_number', 'order_dow', 'order_hour_of_day', 'days_since_prior_order']\n",
    "# df_ords = pd.read_csv(os.path.join(path, '02 - Data', 'Original Data', 'orders.csv'), usecols = vars_list)\n",
    "df_ords = pd.read_csv(\n",
    "    os.path.join(path, \"02 Data\", \"Prepared Data\", \"orders_renamed_wrangled.csv\")\n",
    ")\n",
    "df_prods = pd.read_csv(os.path.join(path, \"02 Data\", \"Original Data\", \"products.csv\"))\n",
    "# df_dep = pd.read_csv(os.path.join(path, '02 Data', 'Original Data', 'departments.csv'))"
   ]
  },
  {
   "cell_type": "markdown",
   "id": "e84bc686-2ff2-4547-9751-73b75ff04eaa",
   "metadata": {},
   "source": [
    "# Data Consistency Checks\n"
   ]
  },
  {
   "cell_type": "code",
   "execution_count": 3,
   "id": "2933937b-dddc-4f78-82d5-ad7ad4f77f2a",
   "metadata": {},
   "outputs": [
    {
     "data": {
      "text/html": [
       "<div>\n",
       "<style scoped>\n",
       "    .dataframe tbody tr th:only-of-type {\n",
       "        vertical-align: middle;\n",
       "    }\n",
       "\n",
       "    .dataframe tbody tr th {\n",
       "        vertical-align: top;\n",
       "    }\n",
       "\n",
       "    .dataframe thead th {\n",
       "        text-align: right;\n",
       "    }\n",
       "</style>\n",
       "<table border=\"1\" class=\"dataframe\">\n",
       "  <thead>\n",
       "    <tr style=\"text-align: right;\">\n",
       "      <th></th>\n",
       "      <th>order_id</th>\n",
       "      <th>user_id</th>\n",
       "      <th>order_number</th>\n",
       "      <th>orders_day_of_week</th>\n",
       "      <th>order_hour_of_day</th>\n",
       "      <th>days_since_last_order</th>\n",
       "    </tr>\n",
       "  </thead>\n",
       "  <tbody>\n",
       "    <tr>\n",
       "      <th>count</th>\n",
       "      <td>3.421083e+06</td>\n",
       "      <td>3.421083e+06</td>\n",
       "      <td>3.421083e+06</td>\n",
       "      <td>3.421083e+06</td>\n",
       "      <td>3.421083e+06</td>\n",
       "      <td>3.214874e+06</td>\n",
       "    </tr>\n",
       "    <tr>\n",
       "      <th>mean</th>\n",
       "      <td>1.710542e+06</td>\n",
       "      <td>1.029782e+05</td>\n",
       "      <td>1.715486e+01</td>\n",
       "      <td>2.776219e+00</td>\n",
       "      <td>1.345202e+01</td>\n",
       "      <td>1.111484e+01</td>\n",
       "    </tr>\n",
       "    <tr>\n",
       "      <th>std</th>\n",
       "      <td>9.875817e+05</td>\n",
       "      <td>5.953372e+04</td>\n",
       "      <td>1.773316e+01</td>\n",
       "      <td>2.046829e+00</td>\n",
       "      <td>4.226088e+00</td>\n",
       "      <td>9.206737e+00</td>\n",
       "    </tr>\n",
       "    <tr>\n",
       "      <th>min</th>\n",
       "      <td>1.000000e+00</td>\n",
       "      <td>1.000000e+00</td>\n",
       "      <td>1.000000e+00</td>\n",
       "      <td>0.000000e+00</td>\n",
       "      <td>0.000000e+00</td>\n",
       "      <td>0.000000e+00</td>\n",
       "    </tr>\n",
       "    <tr>\n",
       "      <th>25%</th>\n",
       "      <td>8.552715e+05</td>\n",
       "      <td>5.139400e+04</td>\n",
       "      <td>5.000000e+00</td>\n",
       "      <td>1.000000e+00</td>\n",
       "      <td>1.000000e+01</td>\n",
       "      <td>4.000000e+00</td>\n",
       "    </tr>\n",
       "    <tr>\n",
       "      <th>50%</th>\n",
       "      <td>1.710542e+06</td>\n",
       "      <td>1.026890e+05</td>\n",
       "      <td>1.100000e+01</td>\n",
       "      <td>3.000000e+00</td>\n",
       "      <td>1.300000e+01</td>\n",
       "      <td>7.000000e+00</td>\n",
       "    </tr>\n",
       "    <tr>\n",
       "      <th>75%</th>\n",
       "      <td>2.565812e+06</td>\n",
       "      <td>1.543850e+05</td>\n",
       "      <td>2.300000e+01</td>\n",
       "      <td>5.000000e+00</td>\n",
       "      <td>1.600000e+01</td>\n",
       "      <td>1.500000e+01</td>\n",
       "    </tr>\n",
       "    <tr>\n",
       "      <th>max</th>\n",
       "      <td>3.421083e+06</td>\n",
       "      <td>2.062090e+05</td>\n",
       "      <td>1.000000e+02</td>\n",
       "      <td>6.000000e+00</td>\n",
       "      <td>2.300000e+01</td>\n",
       "      <td>3.000000e+01</td>\n",
       "    </tr>\n",
       "  </tbody>\n",
       "</table>\n",
       "</div>"
      ],
      "text/plain": [
       "           order_id       user_id  order_number  orders_day_of_week  \\\n",
       "count  3.421083e+06  3.421083e+06  3.421083e+06        3.421083e+06   \n",
       "mean   1.710542e+06  1.029782e+05  1.715486e+01        2.776219e+00   \n",
       "std    9.875817e+05  5.953372e+04  1.773316e+01        2.046829e+00   \n",
       "min    1.000000e+00  1.000000e+00  1.000000e+00        0.000000e+00   \n",
       "25%    8.552715e+05  5.139400e+04  5.000000e+00        1.000000e+00   \n",
       "50%    1.710542e+06  1.026890e+05  1.100000e+01        3.000000e+00   \n",
       "75%    2.565812e+06  1.543850e+05  2.300000e+01        5.000000e+00   \n",
       "max    3.421083e+06  2.062090e+05  1.000000e+02        6.000000e+00   \n",
       "\n",
       "       order_hour_of_day  days_since_last_order  \n",
       "count       3.421083e+06           3.214874e+06  \n",
       "mean        1.345202e+01           1.111484e+01  \n",
       "std         4.226088e+00           9.206737e+00  \n",
       "min         0.000000e+00           0.000000e+00  \n",
       "25%         1.000000e+01           4.000000e+00  \n",
       "50%         1.300000e+01           7.000000e+00  \n",
       "75%         1.600000e+01           1.500000e+01  \n",
       "max         2.300000e+01           3.000000e+01  "
      ]
     },
     "execution_count": 3,
     "metadata": {},
     "output_type": "execute_result"
    }
   ],
   "source": [
    "df_ords.describe()"
   ]
  },
  {
   "cell_type": "markdown",
   "id": "d785c1c0-f94a-4b5d-8c5e-48e6b111e39f",
   "metadata": {},
   "source": [
    "## MixedType Data\n"
   ]
  },
  {
   "cell_type": "code",
   "execution_count": 5,
   "id": "7f182518-ea05-4538-9591-beba69e17fda",
   "metadata": {},
   "outputs": [],
   "source": [
    "# create a dataframe\n",
    "df_test = pd.DataFrame()"
   ]
  },
  {
   "cell_type": "code",
   "execution_count": null,
   "id": "8e00a0bc-f684-4001-94b4-25fbdf4dc72d",
   "metadata": {},
   "outputs": [],
   "source": [
    "# Create a mixed type column\n",
    "df_test[\"mix\"] = [\"a\", \"b\", 1, True]"
   ]
  },
  {
   "cell_type": "code",
   "execution_count": 7,
   "id": "f4c4a956-c11a-4c4a-84c3-3ce3ff86dbe8",
   "metadata": {},
   "outputs": [
    {
     "data": {
      "text/html": [
       "<div>\n",
       "<style scoped>\n",
       "    .dataframe tbody tr th:only-of-type {\n",
       "        vertical-align: middle;\n",
       "    }\n",
       "\n",
       "    .dataframe tbody tr th {\n",
       "        vertical-align: top;\n",
       "    }\n",
       "\n",
       "    .dataframe thead th {\n",
       "        text-align: right;\n",
       "    }\n",
       "</style>\n",
       "<table border=\"1\" class=\"dataframe\">\n",
       "  <thead>\n",
       "    <tr style=\"text-align: right;\">\n",
       "      <th></th>\n",
       "      <th>mix</th>\n",
       "    </tr>\n",
       "  </thead>\n",
       "  <tbody>\n",
       "    <tr>\n",
       "      <th>0</th>\n",
       "      <td>a</td>\n",
       "    </tr>\n",
       "    <tr>\n",
       "      <th>1</th>\n",
       "      <td>b</td>\n",
       "    </tr>\n",
       "    <tr>\n",
       "      <th>2</th>\n",
       "      <td>1</td>\n",
       "    </tr>\n",
       "    <tr>\n",
       "      <th>3</th>\n",
       "      <td>True</td>\n",
       "    </tr>\n",
       "  </tbody>\n",
       "</table>\n",
       "</div>"
      ],
      "text/plain": [
       "    mix\n",
       "0     a\n",
       "1     b\n",
       "2     1\n",
       "3  True"
      ]
     },
     "execution_count": 7,
     "metadata": {},
     "output_type": "execute_result"
    }
   ],
   "source": [
    "df_test.head()"
   ]
  },
  {
   "cell_type": "markdown",
   "id": "2f5a47cb-5629-475d-a68f-9784fd8a881a",
   "metadata": {},
   "source": [
    "### Function to check for mixed-type columns in a Dataframe\n"
   ]
  },
  {
   "cell_type": "code",
   "execution_count": 9,
   "id": "b5b02379-8875-4c6f-bb25-fb07686c273a",
   "metadata": {},
   "outputs": [
    {
     "name": "stdout",
     "output_type": "stream",
     "text": [
      "mix\n"
     ]
    }
   ],
   "source": [
    "# Check for mixed types\n",
    "\n",
    "# for col in df_test.columns.tolist():\n",
    "#   weird = (df_test[[col]].applymap(type) != df_test[[col]].iloc[0].apply(type)).any(axis = 1)\n",
    "#   if len (df_test[weird]) > 0:\n",
    "#     print (col)\n",
    "\n",
    "for col in df_test.columns.tolist():\n",
    "    weird = (df_test[[col]].map(type) != df_test[[col]].iloc[0].apply(type)).any(axis=1)\n",
    "    if len(df_test[weird]) > 0:\n",
    "        print(col)"
   ]
  },
  {
   "cell_type": "code",
   "execution_count": null,
   "id": "bda5b848-4a61-46cc-8e27-f1b9745c19cd",
   "metadata": {},
   "outputs": [],
   "source": [
    "# I will change the datatype of the mix column to String\n",
    "df_test[\"mix\"] = df_test[\"mix\"].astype(\"str\")"
   ]
  },
  {
   "cell_type": "markdown",
   "id": "133f64a6-ca78-4c8d-b18d-5b9749dc57af",
   "metadata": {},
   "source": [
    "## Missing values\n",
    "\n",
    "### Finding missing values\n"
   ]
  },
  {
   "cell_type": "code",
   "execution_count": 12,
   "id": "6998da1b-ec11-462c-82fa-998660a45ed7",
   "metadata": {},
   "outputs": [
    {
     "data": {
      "text/plain": [
       "product_id        0\n",
       "product_name     16\n",
       "aisle_id          0\n",
       "department_id     0\n",
       "prices            0\n",
       "dtype: int64"
      ]
     },
     "execution_count": 12,
     "metadata": {},
     "output_type": "execute_result"
    }
   ],
   "source": [
    "# This function look in every column for missing values and when it find one it sum it\n",
    "df_prods.isnull().sum()"
   ]
  },
  {
   "cell_type": "code",
   "execution_count": null,
   "id": "c9024052",
   "metadata": {},
   "outputs": [],
   "source": []
  },
  {
   "cell_type": "markdown",
   "id": "bff2776d-8cba-4da3-a702-e67caab2b965",
   "metadata": {},
   "source": [
    "We can see that in the product_name column we are missing 16 values.\n"
   ]
  },
  {
   "cell_type": "code",
   "execution_count": null,
   "id": "c71feb91-8ba3-443b-9c0b-948afff1b6c8",
   "metadata": {},
   "outputs": [],
   "source": [
    "# Create a dataframe with the null values using 'isNull() = True'\n",
    "df_nan = df_prods[df_prods[\"product_name\"].isnull() == True]"
   ]
  },
  {
   "cell_type": "code",
   "execution_count": 15,
   "id": "d1ff66f8-3b82-4b27-86ec-914721918d40",
   "metadata": {},
   "outputs": [
    {
     "data": {
      "text/html": [
       "<div>\n",
       "<style scoped>\n",
       "    .dataframe tbody tr th:only-of-type {\n",
       "        vertical-align: middle;\n",
       "    }\n",
       "\n",
       "    .dataframe tbody tr th {\n",
       "        vertical-align: top;\n",
       "    }\n",
       "\n",
       "    .dataframe thead th {\n",
       "        text-align: right;\n",
       "    }\n",
       "</style>\n",
       "<table border=\"1\" class=\"dataframe\">\n",
       "  <thead>\n",
       "    <tr style=\"text-align: right;\">\n",
       "      <th></th>\n",
       "      <th>product_id</th>\n",
       "      <th>product_name</th>\n",
       "      <th>aisle_id</th>\n",
       "      <th>department_id</th>\n",
       "      <th>prices</th>\n",
       "    </tr>\n",
       "  </thead>\n",
       "  <tbody>\n",
       "    <tr>\n",
       "      <th>33</th>\n",
       "      <td>34</td>\n",
       "      <td>NaN</td>\n",
       "      <td>121</td>\n",
       "      <td>14</td>\n",
       "      <td>12.2</td>\n",
       "    </tr>\n",
       "    <tr>\n",
       "      <th>68</th>\n",
       "      <td>69</td>\n",
       "      <td>NaN</td>\n",
       "      <td>26</td>\n",
       "      <td>7</td>\n",
       "      <td>11.8</td>\n",
       "    </tr>\n",
       "    <tr>\n",
       "      <th>115</th>\n",
       "      <td>116</td>\n",
       "      <td>NaN</td>\n",
       "      <td>93</td>\n",
       "      <td>3</td>\n",
       "      <td>10.8</td>\n",
       "    </tr>\n",
       "    <tr>\n",
       "      <th>261</th>\n",
       "      <td>262</td>\n",
       "      <td>NaN</td>\n",
       "      <td>110</td>\n",
       "      <td>13</td>\n",
       "      <td>12.1</td>\n",
       "    </tr>\n",
       "    <tr>\n",
       "      <th>525</th>\n",
       "      <td>525</td>\n",
       "      <td>NaN</td>\n",
       "      <td>109</td>\n",
       "      <td>11</td>\n",
       "      <td>1.2</td>\n",
       "    </tr>\n",
       "    <tr>\n",
       "      <th>1511</th>\n",
       "      <td>1511</td>\n",
       "      <td>NaN</td>\n",
       "      <td>84</td>\n",
       "      <td>16</td>\n",
       "      <td>14.3</td>\n",
       "    </tr>\n",
       "    <tr>\n",
       "      <th>1780</th>\n",
       "      <td>1780</td>\n",
       "      <td>NaN</td>\n",
       "      <td>126</td>\n",
       "      <td>11</td>\n",
       "      <td>12.3</td>\n",
       "    </tr>\n",
       "    <tr>\n",
       "      <th>2240</th>\n",
       "      <td>2240</td>\n",
       "      <td>NaN</td>\n",
       "      <td>52</td>\n",
       "      <td>1</td>\n",
       "      <td>14.2</td>\n",
       "    </tr>\n",
       "    <tr>\n",
       "      <th>2586</th>\n",
       "      <td>2586</td>\n",
       "      <td>NaN</td>\n",
       "      <td>104</td>\n",
       "      <td>13</td>\n",
       "      <td>12.4</td>\n",
       "    </tr>\n",
       "    <tr>\n",
       "      <th>3159</th>\n",
       "      <td>3159</td>\n",
       "      <td>NaN</td>\n",
       "      <td>126</td>\n",
       "      <td>11</td>\n",
       "      <td>13.1</td>\n",
       "    </tr>\n",
       "    <tr>\n",
       "      <th>3230</th>\n",
       "      <td>3230</td>\n",
       "      <td>NaN</td>\n",
       "      <td>120</td>\n",
       "      <td>16</td>\n",
       "      <td>14.4</td>\n",
       "    </tr>\n",
       "    <tr>\n",
       "      <th>3736</th>\n",
       "      <td>3736</td>\n",
       "      <td>NaN</td>\n",
       "      <td>41</td>\n",
       "      <td>8</td>\n",
       "      <td>14.8</td>\n",
       "    </tr>\n",
       "    <tr>\n",
       "      <th>4283</th>\n",
       "      <td>4283</td>\n",
       "      <td>NaN</td>\n",
       "      <td>77</td>\n",
       "      <td>7</td>\n",
       "      <td>14.4</td>\n",
       "    </tr>\n",
       "    <tr>\n",
       "      <th>4790</th>\n",
       "      <td>4790</td>\n",
       "      <td>NaN</td>\n",
       "      <td>91</td>\n",
       "      <td>16</td>\n",
       "      <td>14.5</td>\n",
       "    </tr>\n",
       "    <tr>\n",
       "      <th>38187</th>\n",
       "      <td>38183</td>\n",
       "      <td>NaN</td>\n",
       "      <td>39</td>\n",
       "      <td>12</td>\n",
       "      <td>20.9</td>\n",
       "    </tr>\n",
       "    <tr>\n",
       "      <th>40444</th>\n",
       "      <td>40440</td>\n",
       "      <td>NaN</td>\n",
       "      <td>120</td>\n",
       "      <td>16</td>\n",
       "      <td>14.8</td>\n",
       "    </tr>\n",
       "  </tbody>\n",
       "</table>\n",
       "</div>"
      ],
      "text/plain": [
       "       product_id product_name  aisle_id  department_id  prices\n",
       "33             34          NaN       121             14    12.2\n",
       "68             69          NaN        26              7    11.8\n",
       "115           116          NaN        93              3    10.8\n",
       "261           262          NaN       110             13    12.1\n",
       "525           525          NaN       109             11     1.2\n",
       "1511         1511          NaN        84             16    14.3\n",
       "1780         1780          NaN       126             11    12.3\n",
       "2240         2240          NaN        52              1    14.2\n",
       "2586         2586          NaN       104             13    12.4\n",
       "3159         3159          NaN       126             11    13.1\n",
       "3230         3230          NaN       120             16    14.4\n",
       "3736         3736          NaN        41              8    14.8\n",
       "4283         4283          NaN        77              7    14.4\n",
       "4790         4790          NaN        91             16    14.5\n",
       "38187       38183          NaN        39             12    20.9\n",
       "40444       40440          NaN       120             16    14.8"
      ]
     },
     "execution_count": 15,
     "metadata": {},
     "output_type": "execute_result"
    }
   ],
   "source": [
    "df_nan"
   ]
  },
  {
   "cell_type": "markdown",
   "id": "1661b3e8-b80d-4321-ba77-3b68242874d3",
   "metadata": {},
   "source": [
    "Here er identified the rows with missing values\n"
   ]
  },
  {
   "cell_type": "markdown",
   "id": "4b436f5f-d2f1-45f2-8697-f53a6306793e",
   "metadata": {},
   "source": [
    "### Addressing missing values\n"
   ]
  },
  {
   "cell_type": "markdown",
   "id": "40cfebec-4aa7-49cc-99cd-7d7d921890e0",
   "metadata": {},
   "source": [
    "Options:\n",
    "\n",
    "- Create a new variable that acts like a flag based on the missing value.\n"
   ]
  },
  {
   "cell_type": "markdown",
   "id": "76b9b4c5-a395-49b6-bfa8-ec87033b47f5",
   "metadata": {},
   "source": [
    "- Impute the value with the mean or median of the column (if the variable is numeric) normally with mean or median.\n",
    "\n",
    "  Example using the mean. Use df.describe() to find the mean, then use df['column with missings'].fillna(mean value, inplace=True).\n",
    "\n",
    "  Example using the median. Use df.median() to find the median, then use df['column with missings'].fillna(median value, inplace=True).\n",
    "\n",
    "  Linear Interpolation\n",
    "  An alternative way to impute missing values is to use linear interpolation, which is a special way of dealing with missing data in time- series data. Linear interpolation is a fancy way to say “connecting two points with a line,” and it involves finding the mean of the rows before the missing value occurs, finding the mean of the rows after the missing value occurs, and estimating where the missing value should fall between those two means.\n"
   ]
  },
  {
   "cell_type": "markdown",
   "id": "921d708b-e361-47ea-932d-dfa5d83c6da2",
   "metadata": {},
   "source": [
    "- Remove or filter out the missing data.\n"
   ]
  },
  {
   "cell_type": "code",
   "execution_count": 21,
   "id": "fa164534-23bf-44d5-bcd9-ea1df5484ae1",
   "metadata": {},
   "outputs": [
    {
     "data": {
      "text/plain": [
       "(49693, 5)"
      ]
     },
     "execution_count": 21,
     "metadata": {},
     "output_type": "execute_result"
    }
   ],
   "source": [
    "# In this case we cant inpute values because they are strings, before removing them let's check the shape.\n",
    "# Missing values are ok for the size of dataframe.\n",
    "df_prods.shape"
   ]
  },
  {
   "cell_type": "code",
   "execution_count": null,
   "id": "288e8292-443d-4d98-84e0-9e71f3b378a8",
   "metadata": {},
   "outputs": [
    {
     "data": {
      "text/plain": [
       "(49677, 5)"
      ]
     },
     "execution_count": 22,
     "metadata": {},
     "output_type": "execute_result"
    }
   ],
   "source": [
    "# create new dataframe df_prods_clean\n",
    "df_prods_clean = df_prods[df_prods[\"product_name\"].isnull() == False]\n",
    "df_prods_clean.shape"
   ]
  },
  {
   "cell_type": "code",
   "execution_count": null,
   "id": "ebadac05-62ca-4cf3-8fb3-b5d387793096",
   "metadata": {},
   "outputs": [],
   "source": [
    "# Other way to drop missing values\n",
    "df_prods.dropna(inplace=True)\n",
    "# Dropping values from a specific column\n",
    "df_prods.dropna(subset=[\"product_name\"], inplace=True)\n",
    "\n",
    "# # Both cases we are overwriting  the daframe using the 'inplace = True' function\n",
    "# If you don’t specify an inplace argument in your code, the function will take the default setting,\n",
    "# which is inplace = False. When specified as False, the command will only return a view of the changed dataframe,\n",
    "# leaving the original dataframe untouched."
   ]
  },
  {
   "cell_type": "markdown",
   "id": "4cd99f22-90ad-4400-92ba-a341ff1cc265",
   "metadata": {},
   "source": [
    "## Duplicates\n",
    "\n",
    "Duplicate values are a common issue in data analysis and must be carefully examined before removal.\n",
    "\n",
    "#### **Key Points:**\n",
    "\n",
    "- **Types of Duplicates:**\n",
    "\n",
    "  - **Column-level duplicates** (e.g., repeated `product_id` values).\n",
    "  - **Full row duplicates** (identical rows across all columns).\n",
    "\n",
    "- **Handling Approach:**\n",
    "  - Identify and analyze duplicates before removal.\n",
    "  - Export and report duplicates to clients for clarification.\n",
    "  - Clients may discover underlying issues in their data collection.\n"
   ]
  },
  {
   "cell_type": "markdown",
   "id": "aec6a59b-526c-4ae9-b13b-246fbd1032c7",
   "metadata": {},
   "source": [
    "### Finding duplicates\n",
    "\n",
    "In this case we are looking for full rows because there are multiple single duplicates. ex: `aisle_id` and `department_id`\n"
   ]
  },
  {
   "cell_type": "code",
   "execution_count": 26,
   "id": "397c8014-7cd7-4360-adf5-6c44a2b4cfc5",
   "metadata": {},
   "outputs": [
    {
     "data": {
      "text/html": [
       "<div>\n",
       "<style scoped>\n",
       "    .dataframe tbody tr th:only-of-type {\n",
       "        vertical-align: middle;\n",
       "    }\n",
       "\n",
       "    .dataframe tbody tr th {\n",
       "        vertical-align: top;\n",
       "    }\n",
       "\n",
       "    .dataframe thead th {\n",
       "        text-align: right;\n",
       "    }\n",
       "</style>\n",
       "<table border=\"1\" class=\"dataframe\">\n",
       "  <thead>\n",
       "    <tr style=\"text-align: right;\">\n",
       "      <th></th>\n",
       "      <th>product_id</th>\n",
       "      <th>product_name</th>\n",
       "      <th>aisle_id</th>\n",
       "      <th>department_id</th>\n",
       "      <th>prices</th>\n",
       "    </tr>\n",
       "  </thead>\n",
       "  <tbody>\n",
       "    <tr>\n",
       "      <th>462</th>\n",
       "      <td>462</td>\n",
       "      <td>Fiber 4g Gummy Dietary Supplement</td>\n",
       "      <td>70</td>\n",
       "      <td>11</td>\n",
       "      <td>4.8</td>\n",
       "    </tr>\n",
       "    <tr>\n",
       "      <th>18459</th>\n",
       "      <td>18458</td>\n",
       "      <td>Ranger IPA</td>\n",
       "      <td>27</td>\n",
       "      <td>5</td>\n",
       "      <td>9.2</td>\n",
       "    </tr>\n",
       "    <tr>\n",
       "      <th>26810</th>\n",
       "      <td>26808</td>\n",
       "      <td>Black House Coffee Roasty Stout Beer</td>\n",
       "      <td>27</td>\n",
       "      <td>5</td>\n",
       "      <td>13.4</td>\n",
       "    </tr>\n",
       "    <tr>\n",
       "      <th>35309</th>\n",
       "      <td>35306</td>\n",
       "      <td>Gluten Free Organic Peanut Butter &amp; Chocolate ...</td>\n",
       "      <td>121</td>\n",
       "      <td>14</td>\n",
       "      <td>6.8</td>\n",
       "    </tr>\n",
       "    <tr>\n",
       "      <th>35495</th>\n",
       "      <td>35491</td>\n",
       "      <td>Adore Forever Body Wash</td>\n",
       "      <td>127</td>\n",
       "      <td>11</td>\n",
       "      <td>9.9</td>\n",
       "    </tr>\n",
       "  </tbody>\n",
       "</table>\n",
       "</div>"
      ],
      "text/plain": [
       "       product_id                                       product_name  \\\n",
       "462           462                  Fiber 4g Gummy Dietary Supplement   \n",
       "18459       18458                                         Ranger IPA   \n",
       "26810       26808               Black House Coffee Roasty Stout Beer   \n",
       "35309       35306  Gluten Free Organic Peanut Butter & Chocolate ...   \n",
       "35495       35491                            Adore Forever Body Wash   \n",
       "\n",
       "       aisle_id  department_id  prices  \n",
       "462          70             11     4.8  \n",
       "18459        27              5     9.2  \n",
       "26810        27              5    13.4  \n",
       "35309       121             14     6.8  \n",
       "35495       127             11     9.9  "
      ]
     },
     "execution_count": 26,
     "metadata": {},
     "output_type": "execute_result"
    }
   ],
   "source": [
    "# This command look for full duplicates\n",
    "df_prods_dups = df_prods_clean[df_prods_clean.duplicated()]\n",
    "# we run the `duplicated()` function on the df_prods and when it find a duplicated row it save it in the subset dp_prods_dups\n",
    "df_prods_dups"
   ]
  },
  {
   "cell_type": "markdown",
   "id": "d23b8a68-e981-4909-8193-229093f61c7a",
   "metadata": {},
   "source": [
    "## Addressing duplicates\n",
    "\n",
    "function to drop duplicates\n",
    "`df.drop_duplicates()`\n"
   ]
  },
  {
   "cell_type": "code",
   "execution_count": 28,
   "id": "ff202c30-9c96-4086-8dd2-6a9e6d34af40",
   "metadata": {},
   "outputs": [
    {
     "data": {
      "text/plain": [
       "(49677, 5)"
      ]
     },
     "execution_count": 28,
     "metadata": {},
     "output_type": "execute_result"
    }
   ],
   "source": [
    "# Check the shape of daframe\n",
    "df_prods_clean.shape"
   ]
  },
  {
   "cell_type": "code",
   "execution_count": 29,
   "id": "204ec01c-f3b1-43fb-8e52-f069009ef373",
   "metadata": {},
   "outputs": [],
   "source": [
    "# Create dataframe with no duplicates\n",
    "df_prods_clean_no_dups = df_prods_clean.drop_duplicates()"
   ]
  },
  {
   "cell_type": "code",
   "execution_count": 30,
   "id": "cad04172-fa27-41e0-bb79-cdda5005cb4c",
   "metadata": {},
   "outputs": [
    {
     "data": {
      "text/plain": [
       "(49672, 5)"
      ]
     },
     "execution_count": 30,
     "metadata": {},
     "output_type": "execute_result"
    }
   ],
   "source": [
    "# check the shape\n",
    "df_prods_clean_no_dups.shape"
   ]
  },
  {
   "cell_type": "markdown",
   "id": "f2a3d197-305a-40c4-93a1-8fa464338887",
   "metadata": {},
   "source": [
    "# Export Products\n"
   ]
  },
  {
   "cell_type": "code",
   "execution_count": null,
   "id": "20cb7b57-4d40-4fe8-a589-5088d2aa5f84",
   "metadata": {},
   "outputs": [],
   "source": [
    "# Export the dataframe\n",
    "df_prods_clean_no_dups.to_csv(\n",
    "    os.path.join(path, \"02 Data\", \"Prepared data\", \"products_cleaned.csv\")\n",
    ")"
   ]
  },
  {
   "cell_type": "markdown",
   "id": "aa9355e5-86ab-473b-a947-ee3056a9b33c",
   "metadata": {},
   "source": [
    "# Task 4.5\n"
   ]
  },
  {
   "cell_type": "markdown",
   "id": "c4e8210a-7d87-4296-b245-f20b3b054e6d",
   "metadata": {},
   "source": [
    "## 2\n",
    "\n",
    "Run the df.describe() function on your df_ords dataframe. Using your new knowledge about how to interpret the output of this function, share in a markdown cell whether anything about the data looks off or should be investigated further.\n",
    "Tip: Keep an eye on min and max values!\n"
   ]
  },
  {
   "cell_type": "code",
   "execution_count": 35,
   "id": "53468803-c697-440c-9fb9-bba222276ff5",
   "metadata": {},
   "outputs": [
    {
     "data": {
      "text/html": [
       "<div>\n",
       "<style scoped>\n",
       "    .dataframe tbody tr th:only-of-type {\n",
       "        vertical-align: middle;\n",
       "    }\n",
       "\n",
       "    .dataframe tbody tr th {\n",
       "        vertical-align: top;\n",
       "    }\n",
       "\n",
       "    .dataframe thead th {\n",
       "        text-align: right;\n",
       "    }\n",
       "</style>\n",
       "<table border=\"1\" class=\"dataframe\">\n",
       "  <thead>\n",
       "    <tr style=\"text-align: right;\">\n",
       "      <th></th>\n",
       "      <th>order_id</th>\n",
       "      <th>user_id</th>\n",
       "      <th>order_number</th>\n",
       "      <th>orders_day_of_week</th>\n",
       "      <th>order_hour_of_day</th>\n",
       "      <th>days_since_last_order</th>\n",
       "    </tr>\n",
       "  </thead>\n",
       "  <tbody>\n",
       "    <tr>\n",
       "      <th>count</th>\n",
       "      <td>3.421083e+06</td>\n",
       "      <td>3.421083e+06</td>\n",
       "      <td>3.421083e+06</td>\n",
       "      <td>3.421083e+06</td>\n",
       "      <td>3.421083e+06</td>\n",
       "      <td>3.214874e+06</td>\n",
       "    </tr>\n",
       "    <tr>\n",
       "      <th>mean</th>\n",
       "      <td>1.710542e+06</td>\n",
       "      <td>1.029782e+05</td>\n",
       "      <td>1.715486e+01</td>\n",
       "      <td>2.776219e+00</td>\n",
       "      <td>1.345202e+01</td>\n",
       "      <td>1.111484e+01</td>\n",
       "    </tr>\n",
       "    <tr>\n",
       "      <th>std</th>\n",
       "      <td>9.875817e+05</td>\n",
       "      <td>5.953372e+04</td>\n",
       "      <td>1.773316e+01</td>\n",
       "      <td>2.046829e+00</td>\n",
       "      <td>4.226088e+00</td>\n",
       "      <td>9.206737e+00</td>\n",
       "    </tr>\n",
       "    <tr>\n",
       "      <th>min</th>\n",
       "      <td>1.000000e+00</td>\n",
       "      <td>1.000000e+00</td>\n",
       "      <td>1.000000e+00</td>\n",
       "      <td>0.000000e+00</td>\n",
       "      <td>0.000000e+00</td>\n",
       "      <td>0.000000e+00</td>\n",
       "    </tr>\n",
       "    <tr>\n",
       "      <th>25%</th>\n",
       "      <td>8.552715e+05</td>\n",
       "      <td>5.139400e+04</td>\n",
       "      <td>5.000000e+00</td>\n",
       "      <td>1.000000e+00</td>\n",
       "      <td>1.000000e+01</td>\n",
       "      <td>4.000000e+00</td>\n",
       "    </tr>\n",
       "    <tr>\n",
       "      <th>50%</th>\n",
       "      <td>1.710542e+06</td>\n",
       "      <td>1.026890e+05</td>\n",
       "      <td>1.100000e+01</td>\n",
       "      <td>3.000000e+00</td>\n",
       "      <td>1.300000e+01</td>\n",
       "      <td>7.000000e+00</td>\n",
       "    </tr>\n",
       "    <tr>\n",
       "      <th>75%</th>\n",
       "      <td>2.565812e+06</td>\n",
       "      <td>1.543850e+05</td>\n",
       "      <td>2.300000e+01</td>\n",
       "      <td>5.000000e+00</td>\n",
       "      <td>1.600000e+01</td>\n",
       "      <td>1.500000e+01</td>\n",
       "    </tr>\n",
       "    <tr>\n",
       "      <th>max</th>\n",
       "      <td>3.421083e+06</td>\n",
       "      <td>2.062090e+05</td>\n",
       "      <td>1.000000e+02</td>\n",
       "      <td>6.000000e+00</td>\n",
       "      <td>2.300000e+01</td>\n",
       "      <td>3.000000e+01</td>\n",
       "    </tr>\n",
       "  </tbody>\n",
       "</table>\n",
       "</div>"
      ],
      "text/plain": [
       "           order_id       user_id  order_number  orders_day_of_week  \\\n",
       "count  3.421083e+06  3.421083e+06  3.421083e+06        3.421083e+06   \n",
       "mean   1.710542e+06  1.029782e+05  1.715486e+01        2.776219e+00   \n",
       "std    9.875817e+05  5.953372e+04  1.773316e+01        2.046829e+00   \n",
       "min    1.000000e+00  1.000000e+00  1.000000e+00        0.000000e+00   \n",
       "25%    8.552715e+05  5.139400e+04  5.000000e+00        1.000000e+00   \n",
       "50%    1.710542e+06  1.026890e+05  1.100000e+01        3.000000e+00   \n",
       "75%    2.565812e+06  1.543850e+05  2.300000e+01        5.000000e+00   \n",
       "max    3.421083e+06  2.062090e+05  1.000000e+02        6.000000e+00   \n",
       "\n",
       "       order_hour_of_day  days_since_last_order  \n",
       "count       3.421083e+06           3.214874e+06  \n",
       "mean        1.345202e+01           1.111484e+01  \n",
       "std         4.226088e+00           9.206737e+00  \n",
       "min         0.000000e+00           0.000000e+00  \n",
       "25%         1.000000e+01           4.000000e+00  \n",
       "50%         1.300000e+01           7.000000e+00  \n",
       "75%         1.600000e+01           1.500000e+01  \n",
       "max         2.300000e+01           3.000000e+01  "
      ]
     },
     "execution_count": 35,
     "metadata": {},
     "output_type": "execute_result"
    }
   ],
   "source": [
    "df_ords.describe()"
   ]
  },
  {
   "cell_type": "markdown",
   "id": "4bd3efe9-745b-4ad2-b740-477c0109720f",
   "metadata": {},
   "source": [
    "- First of all the columns 'order_id', 'user_id' and 'order_number' should not be present when we run the function 'describe()' because in the last exercise I transformed them in strings. Probably what's happening here is that the .csv file don't store the dataype and we have to set at the moment of the import the datatype for the columns.\n",
    "  So since the first 3 columns should not be here we can skip them.\n",
    "- Looking at the count in 'days-since-last-order' it look likes we are missing some values in that column. This may be caused bysome customers beeing first -time-buyers or they might be incomplete or corruped.\n",
    "- In the 'order_day_of_week' the min value are 0 and 6. 7 numbers as the days of the week, they just start indexing the Sunday(?) with 0.\n"
   ]
  },
  {
   "cell_type": "markdown",
   "id": "c3a37b23-dbc1-4e18-a1c4-9f9de4778107",
   "metadata": {},
   "source": [
    "## 3\n",
    "\n",
    "Check for mixed-type data in your df_ords dataframe\n"
   ]
  },
  {
   "cell_type": "code",
   "execution_count": null,
   "id": "9b906a6e-8654-4185-86de-5bc40facb191",
   "metadata": {},
   "outputs": [],
   "source": [
    "# Run functfor loop to check for inconsistent datatype.\n",
    "# Using this sytax because is not deprecated as the one suggested in the course.\n",
    "\n",
    "for col in df_ords.columns.tolist():\n",
    "    weird = (df_ords[[col]].map(type) != df_ords[[col]].iloc[0].apply(type)).any(axis=1)\n",
    "    if len(df_ords[weird]) > 0:\n",
    "        print(col)"
   ]
  },
  {
   "cell_type": "markdown",
   "id": "28902e66-52c4-48df-a63f-19dc2ea4d1b1",
   "metadata": {},
   "source": [
    "There's no miced values in the dataframe variables.\n"
   ]
  },
  {
   "cell_type": "markdown",
   "id": "31029ce2-c679-4b27-9fdc-3ea8deee9e84",
   "metadata": {},
   "source": [
    "## 4\n",
    "\n",
    "If you find mixed-type data, fix it. The column in question should contain observations of a single data type.\n"
   ]
  },
  {
   "cell_type": "code",
   "execution_count": 41,
   "id": "0c4567b8-ec95-47cd-be96-4b30f22bc7c9",
   "metadata": {},
   "outputs": [
    {
     "data": {
      "text/plain": [
       "order_id                   int64\n",
       "user_id                    int64\n",
       "order_number               int64\n",
       "orders_day_of_week         int64\n",
       "order_hour_of_day          int64\n",
       "days_since_last_order    float64\n",
       "dtype: object"
      ]
     },
     "execution_count": 41,
     "metadata": {},
     "output_type": "execute_result"
    }
   ],
   "source": [
    "# checking the columns\n",
    "df_ords.dtypes"
   ]
  },
  {
   "cell_type": "markdown",
   "id": "807572b9-e8c8-47fd-bc6b-7bb0bebcd9b0",
   "metadata": {},
   "source": [
    "## 5\n",
    "\n",
    "Run a check for missing values in your df_ords dataframe.\n",
    "In a markdown cell, report your findings and propose an explanation for any missing values you find.\n"
   ]
  },
  {
   "cell_type": "code",
   "execution_count": 43,
   "id": "df3e3ee4-693e-4364-a359-f5d1f3f16d14",
   "metadata": {},
   "outputs": [
    {
     "data": {
      "text/plain": [
       "order_id                      0\n",
       "user_id                       0\n",
       "order_number                  0\n",
       "orders_day_of_week            0\n",
       "order_hour_of_day             0\n",
       "days_since_last_order    206209\n",
       "dtype: int64"
      ]
     },
     "execution_count": 43,
     "metadata": {},
     "output_type": "execute_result"
    }
   ],
   "source": [
    "# run the function to chedck for missing values\n",
    "df_ords.isnull().sum()"
   ]
  },
  {
   "cell_type": "markdown",
   "id": "d2e0f5ca-5d27-4165-a9cc-ddde8773e226",
   "metadata": {},
   "source": [
    "'days_since_last_order' has a lot of missing values. Here we have to understand if this is caused by the fact that some of theese people have never made an order or an error of the transciption of the databse.\n",
    "This information should be stored in another dataframe and sent to the customer to have a check.\n"
   ]
  },
  {
   "cell_type": "code",
   "execution_count": null,
   "id": "1e4be77d-79e1-43a4-b7e5-894a7c6dda54",
   "metadata": {},
   "outputs": [],
   "source": [
    "# Create a dataframe with the null values using 'isNull() = True'\n",
    "df_ords_missing = df_ords[df_ords[\"days_since_last_order\"].isnull() == True]"
   ]
  },
  {
   "cell_type": "markdown",
   "id": "e00daeac-132c-492a-9325-cbc52f857ada",
   "metadata": {},
   "source": [
    "## 6\n",
    "\n",
    "Address the missing values using an appropriate method.\n",
    "In a markdown cell, explain why you used your method of choice.\n"
   ]
  },
  {
   "cell_type": "code",
   "execution_count": null,
   "id": "5de76687-adb4-4b82-b38c-8e4986a00132",
   "metadata": {},
   "outputs": [
    {
     "name": "stdout",
     "output_type": "stream",
     "text": [
      "'order_number' is constant with value: 1\n"
     ]
    }
   ],
   "source": [
    "# I already have the daframe with all the missing value now i want to check if all the missing orders have the same order_number\n",
    "def is_column_constant(df, col_name):\n",
    "    # Checks if all values in the specified column are the same and returns the value if true.\n",
    "\n",
    "    # Args:\n",
    "    # df (pd.DataFrame): The DataFrame to check.\n",
    "    # col_name (str): The column name to check.\n",
    "\n",
    "    # Returns:\n",
    "    # tuple: (True, value) if all values are the same, (False, None) otherwise.\n",
    "\n",
    "    unique_values = df[col_name].dropna().unique()  # Get unique non-null values\n",
    "    if len(unique_values) == 1:\n",
    "        return True, unique_values[0]  # Return True and the constant value\n",
    "    return False, None  # Return False if values are not the same\n",
    "\n",
    "\n",
    "# Run the function on df_ords_missing['order_number']\n",
    "result, value = is_column_constant(df_ords_missing, \"order_number\")\n",
    "\n",
    "if result:\n",
    "    print(f\"'order_number' is constant with value: {value}\")\n",
    "else:\n",
    "    print(\"'order_number' is NOT constant\")"
   ]
  },
  {
   "cell_type": "markdown",
   "id": "e2b48966-bab1-4695-869e-defa5eef401c",
   "metadata": {},
   "source": [
    "It looks like that the missing values have all in common that was the first order.\n",
    "Erasing the rows would be a wrong move, here the only solution is to contact the client and tell them that they probably have a problem in the data collection since customers that have done only one order should have a placeholder in the 'days_since_last_order ' untill they make a second order.\n"
   ]
  },
  {
   "cell_type": "code",
   "execution_count": null,
   "id": "d22024c9-7f0d-4fca-8b46-366186152e20",
   "metadata": {},
   "outputs": [
    {
     "data": {
      "text/html": [
       "<div>\n",
       "<style scoped>\n",
       "    .dataframe tbody tr th:only-of-type {\n",
       "        vertical-align: middle;\n",
       "    }\n",
       "\n",
       "    .dataframe tbody tr th {\n",
       "        vertical-align: top;\n",
       "    }\n",
       "\n",
       "    .dataframe thead th {\n",
       "        text-align: right;\n",
       "    }\n",
       "</style>\n",
       "<table border=\"1\" class=\"dataframe\">\n",
       "  <thead>\n",
       "    <tr style=\"text-align: right;\">\n",
       "      <th></th>\n",
       "      <th>order_id</th>\n",
       "      <th>user_id</th>\n",
       "      <th>order_number</th>\n",
       "      <th>orders_day_of_week</th>\n",
       "      <th>order_hour_of_day</th>\n",
       "      <th>days_since_last_order</th>\n",
       "      <th>first_order</th>\n",
       "    </tr>\n",
       "  </thead>\n",
       "  <tbody>\n",
       "    <tr>\n",
       "      <th>0</th>\n",
       "      <td>2539329</td>\n",
       "      <td>1</td>\n",
       "      <td>1</td>\n",
       "      <td>2</td>\n",
       "      <td>8</td>\n",
       "      <td>NaN</td>\n",
       "      <td>True</td>\n",
       "    </tr>\n",
       "    <tr>\n",
       "      <th>1</th>\n",
       "      <td>2398795</td>\n",
       "      <td>1</td>\n",
       "      <td>2</td>\n",
       "      <td>3</td>\n",
       "      <td>7</td>\n",
       "      <td>15.0</td>\n",
       "      <td>False</td>\n",
       "    </tr>\n",
       "    <tr>\n",
       "      <th>2</th>\n",
       "      <td>473747</td>\n",
       "      <td>1</td>\n",
       "      <td>3</td>\n",
       "      <td>3</td>\n",
       "      <td>12</td>\n",
       "      <td>21.0</td>\n",
       "      <td>False</td>\n",
       "    </tr>\n",
       "    <tr>\n",
       "      <th>3</th>\n",
       "      <td>2254736</td>\n",
       "      <td>1</td>\n",
       "      <td>4</td>\n",
       "      <td>4</td>\n",
       "      <td>7</td>\n",
       "      <td>29.0</td>\n",
       "      <td>False</td>\n",
       "    </tr>\n",
       "    <tr>\n",
       "      <th>4</th>\n",
       "      <td>431534</td>\n",
       "      <td>1</td>\n",
       "      <td>5</td>\n",
       "      <td>4</td>\n",
       "      <td>15</td>\n",
       "      <td>28.0</td>\n",
       "      <td>False</td>\n",
       "    </tr>\n",
       "  </tbody>\n",
       "</table>\n",
       "</div>"
      ],
      "text/plain": [
       "   order_id  user_id  order_number  orders_day_of_week  order_hour_of_day  \\\n",
       "0   2539329        1             1                   2                  8   \n",
       "1   2398795        1             2                   3                  7   \n",
       "2    473747        1             3                   3                 12   \n",
       "3   2254736        1             4                   4                  7   \n",
       "4    431534        1             5                   4                 15   \n",
       "\n",
       "   days_since_last_order  first_order  \n",
       "0                    NaN         True  \n",
       "1                   15.0        False  \n",
       "2                   21.0        False  \n",
       "3                   29.0        False  \n",
       "4                   28.0        False  "
      ]
     },
     "execution_count": 49,
     "metadata": {},
     "output_type": "execute_result"
    }
   ],
   "source": [
    "# Create a new column 'first_order' where 1 means first-time order, 0 means repeat order\n",
    "df_ords_modified = df_ords.copy()  # Make a copy to keep the original safe\n",
    "\n",
    "# Add the 'first_order' column in the new DataFrame\n",
    "df_ords_modified[\"first_order\"] = df_ords_modified[\"days_since_last_order\"].isna()\n",
    "df_ords_modified.head()\n"
   ]
  },
  {
   "cell_type": "markdown",
   "id": "fdbee3d8-f6bb-4325-8cf5-39a66888c454",
   "metadata": {},
   "source": [
    "Now we have our new dataframe with an added column for understanding if that was the first order or not,\n"
   ]
  },
  {
   "cell_type": "markdown",
   "id": "d74178c9-7955-44bb-a746-67d0455520d9",
   "metadata": {},
   "source": [
    "## 7\n",
    "\n",
    "Run a check for duplicate values in your df_ords data.\n",
    "In a markdown cell, report your findings and propose an explanation for any duplicate values you find.\n"
   ]
  },
  {
   "cell_type": "code",
   "execution_count": 52,
   "id": "e7a07a8e-1619-4c61-80c7-f1d4b1157f09",
   "metadata": {},
   "outputs": [
    {
     "data": {
      "text/html": [
       "<div>\n",
       "<style scoped>\n",
       "    .dataframe tbody tr th:only-of-type {\n",
       "        vertical-align: middle;\n",
       "    }\n",
       "\n",
       "    .dataframe tbody tr th {\n",
       "        vertical-align: top;\n",
       "    }\n",
       "\n",
       "    .dataframe thead th {\n",
       "        text-align: right;\n",
       "    }\n",
       "</style>\n",
       "<table border=\"1\" class=\"dataframe\">\n",
       "  <thead>\n",
       "    <tr style=\"text-align: right;\">\n",
       "      <th></th>\n",
       "      <th>order_id</th>\n",
       "      <th>user_id</th>\n",
       "      <th>order_number</th>\n",
       "      <th>orders_day_of_week</th>\n",
       "      <th>order_hour_of_day</th>\n",
       "      <th>days_since_last_order</th>\n",
       "    </tr>\n",
       "  </thead>\n",
       "  <tbody>\n",
       "  </tbody>\n",
       "</table>\n",
       "</div>"
      ],
      "text/plain": [
       "Empty DataFrame\n",
       "Columns: [order_id, user_id, order_number, orders_day_of_week, order_hour_of_day, days_since_last_order]\n",
       "Index: []"
      ]
     },
     "execution_count": 52,
     "metadata": {},
     "output_type": "execute_result"
    }
   ],
   "source": [
    "# This command look for full duplicates\n",
    "\n",
    "df_ords_dups = df_ords[df_ords.duplicated()]\n",
    "df_ords_dups"
   ]
  },
  {
   "cell_type": "markdown",
   "id": "83a3983c-50a1-4104-b295-d7922f66d48a",
   "metadata": {},
   "source": [
    "It looks like that there are not duplicate.\n"
   ]
  },
  {
   "cell_type": "markdown",
   "id": "b1a08527-a69b-4a95-a326-178b166fb730",
   "metadata": {},
   "source": [
    "## 9\n",
    "\n",
    "Export your final, cleaned df_prods and df_ords data as “.csv” files in your “Prepared Data” folder and give them appropriate, succinct names.\n"
   ]
  },
  {
   "cell_type": "code",
   "execution_count": null,
   "id": "cacf85d9-2df8-43a7-917b-7251a521d7cf",
   "metadata": {},
   "outputs": [],
   "source": [
    "# Export the df_ords_modified\n",
    "df_ords_modified.to_csv(\n",
    "    os.path.join(path, \"02 Data\", \"Prepared data\", \"orders_cleaned.csv\")\n",
    ")"
   ]
  },
  {
   "cell_type": "code",
   "execution_count": null,
   "id": "74434ba8-4c24-4d9b-922b-a2c6ee5c2b2e",
   "metadata": {},
   "outputs": [],
   "source": []
  }
 ],
 "metadata": {
  "kernelspec": {
   "display_name": "base",
   "language": "python",
   "name": "python3"
  },
  "language_info": {
   "codemirror_mode": {
    "name": "ipython",
    "version": 3
   },
   "file_extension": ".py",
   "mimetype": "text/x-python",
   "name": "python",
   "nbconvert_exporter": "python",
   "pygments_lexer": "ipython3",
   "version": "3.12.7"
  }
 },
 "nbformat": 4,
 "nbformat_minor": 5
}
